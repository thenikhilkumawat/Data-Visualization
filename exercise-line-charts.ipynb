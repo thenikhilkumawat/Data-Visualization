{
 "cells": [
  {
   "cell_type": "markdown",
   "id": "342b429f",
   "metadata": {
    "papermill": {
     "duration": 0.008372,
     "end_time": "2023-06-29T13:29:13.747308",
     "exception": false,
     "start_time": "2023-06-29T13:29:13.738936",
     "status": "completed"
    },
    "tags": []
   },
   "source": [
    "**This notebook is an exercise in the [Data Visualization](https://www.kaggle.com/learn/data-visualization) course.  You can reference the tutorial at [this link](https://www.kaggle.com/alexisbcook/line-charts).**\n",
    "\n",
    "---\n"
   ]
  },
  {
   "cell_type": "markdown",
   "id": "772337ce",
   "metadata": {
    "papermill": {
     "duration": 0.007039,
     "end_time": "2023-06-29T13:29:13.762005",
     "exception": false,
     "start_time": "2023-06-29T13:29:13.754966",
     "status": "completed"
    },
    "tags": []
   },
   "source": [
    "In this exercise, you will use your new knowledge to propose a solution to a real-world scenario. To succeed, you will need to import data into Python, answer questions using the data, and generate **line charts** to understand patterns in the data.\n",
    "\n",
    "## Scenario\n",
    "\n",
    "You have recently been hired to manage the museums in the City of Los Angeles. Your first project focuses on the four museums pictured in the images below.\n",
    "\n",
    "![ex1_museums](https://storage.googleapis.com/kaggle-media/learn/images/pFYL8J1.png)\n",
    "\n",
    "You will leverage data from the Los Angeles [Data Portal](https://data.lacity.org/) that tracks monthly visitors to each museum.  \n",
    "\n",
    "![ex1_xlsx](https://storage.googleapis.com/kaggle-media/learn/images/mGWYlym.png)\n",
    "\n",
    "## Setup\n",
    "\n",
    "Run the next cell to import and configure the Python libraries that you need to complete the exercise."
   ]
  },
  {
   "cell_type": "code",
   "execution_count": 1,
   "id": "2c6483b7",
   "metadata": {
    "execution": {
     "iopub.execute_input": "2023-06-29T13:29:13.778971Z",
     "iopub.status.busy": "2023-06-29T13:29:13.778346Z",
     "iopub.status.idle": "2023-06-29T13:29:15.471708Z",
     "shell.execute_reply": "2023-06-29T13:29:15.470337Z"
    },
    "papermill": {
     "duration": 1.705605,
     "end_time": "2023-06-29T13:29:15.474786",
     "exception": false,
     "start_time": "2023-06-29T13:29:13.769181",
     "status": "completed"
    },
    "tags": []
   },
   "outputs": [
    {
     "name": "stdout",
     "output_type": "stream",
     "text": [
      "Setup Complete\n"
     ]
    }
   ],
   "source": [
    "import pandas as pd\n",
    "pd.plotting.register_matplotlib_converters()\n",
    "import matplotlib.pyplot as plt\n",
    "%matplotlib inline\n",
    "import seaborn as sns\n",
    "print(\"Setup Complete\")"
   ]
  },
  {
   "cell_type": "markdown",
   "id": "365c7fbd",
   "metadata": {
    "papermill": {
     "duration": 0.007327,
     "end_time": "2023-06-29T13:29:15.490534",
     "exception": false,
     "start_time": "2023-06-29T13:29:15.483207",
     "status": "completed"
    },
    "tags": []
   },
   "source": [
    "The questions below will give you feedback on your work. Run the following cell to set up the feedback system."
   ]
  },
  {
   "cell_type": "code",
   "execution_count": 2,
   "id": "22251b8f",
   "metadata": {
    "execution": {
     "iopub.execute_input": "2023-06-29T13:29:15.510512Z",
     "iopub.status.busy": "2023-06-29T13:29:15.509991Z",
     "iopub.status.idle": "2023-06-29T13:29:15.583432Z",
     "shell.execute_reply": "2023-06-29T13:29:15.582149Z"
    },
    "papermill": {
     "duration": 0.087849,
     "end_time": "2023-06-29T13:29:15.586059",
     "exception": false,
     "start_time": "2023-06-29T13:29:15.498210",
     "status": "completed"
    },
    "tags": []
   },
   "outputs": [
    {
     "name": "stdout",
     "output_type": "stream",
     "text": [
      "Setup Complete\n"
     ]
    }
   ],
   "source": [
    "# Set up code checking\n",
    "import os\n",
    "if not os.path.exists(\"../input/museum_visitors.csv\"):\n",
    "    os.symlink(\"../input/data-for-datavis/museum_visitors.csv\", \"../input/museum_visitors.csv\") \n",
    "from learntools.core import binder\n",
    "binder.bind(globals())\n",
    "from learntools.data_viz_to_coder.ex2 import *\n",
    "print(\"Setup Complete\")"
   ]
  },
  {
   "cell_type": "markdown",
   "id": "8366cf27",
   "metadata": {
    "papermill": {
     "duration": 0.007279,
     "end_time": "2023-06-29T13:29:15.600942",
     "exception": false,
     "start_time": "2023-06-29T13:29:15.593663",
     "status": "completed"
    },
    "tags": []
   },
   "source": [
    "## Step 1: Load the data\n",
    "\n",
    "Your first assignment is to read the LA Museum Visitors data file into `museum_data`.  Note that:\n",
    "- The filepath to the dataset is stored as `museum_filepath`.  Please **do not** change the provided value of the filepath.\n",
    "- The name of the column to use as row labels is `\"Date\"`.  (This can be seen in cell A1 when the file is opened in Excel.)\n",
    "\n",
    "To help with this, you may find it useful to revisit some relevant code from the tutorial, which we have pasted below:\n",
    "\n",
    "```python\n",
    "# Path of the file to read\n",
    "spotify_filepath = \"../input/spotify.csv\"\n",
    "\n",
    "# Read the file into a variable spotify_data\n",
    "spotify_data = pd.read_csv(spotify_filepath, index_col=\"Date\", parse_dates=True)\n",
    "```\n",
    "\n",
    "The code you need to write now looks very similar!"
   ]
  },
  {
   "cell_type": "code",
   "execution_count": 3,
   "id": "aa73a081",
   "metadata": {
    "execution": {
     "iopub.execute_input": "2023-06-29T13:29:15.618557Z",
     "iopub.status.busy": "2023-06-29T13:29:15.617923Z",
     "iopub.status.idle": "2023-06-29T13:29:15.636700Z",
     "shell.execute_reply": "2023-06-29T13:29:15.635320Z"
    },
    "papermill": {
     "duration": 0.03033,
     "end_time": "2023-06-29T13:29:15.639138",
     "exception": false,
     "start_time": "2023-06-29T13:29:15.608808",
     "status": "completed"
    },
    "tags": []
   },
   "outputs": [
    {
     "data": {
      "application/javascript": [
       "parent.postMessage({\"jupyterEvent\": \"custom.exercise_interaction\", \"data\": {\"outcomeType\": 1, \"valueTowardsCompletion\": 0.3333333333333333, \"interactionType\": 1, \"questionType\": 1, \"questionId\": \"1_LoadMuseumData\", \"learnToolsVersion\": \"0.3.4\", \"failureMessage\": \"\", \"exceptionClass\": \"\", \"trace\": \"\"}}, \"*\")"
      ],
      "text/plain": [
       "<IPython.core.display.Javascript object>"
      ]
     },
     "metadata": {},
     "output_type": "display_data"
    },
    {
     "data": {
      "text/markdown": [
       "<span style=\"color:#33cc33\">Correct</span>"
      ],
      "text/plain": [
       "Correct"
      ]
     },
     "metadata": {},
     "output_type": "display_data"
    }
   ],
   "source": [
    "# Path of the file to read\n",
    "museum_filepath = \"../input/museum_visitors.csv\"\n",
    "\n",
    "# Fill in the line below to read the file into a variable museum_data\n",
    "museum_data = pd.read_csv(museum_filepath, index_col=\"Date\", parse_dates=True)\n",
    "\n",
    "# Run the line below with no changes to check that you've loaded the data correctly\n",
    "step_1.check()"
   ]
  },
  {
   "cell_type": "code",
   "execution_count": 4,
   "id": "d9281356",
   "metadata": {
    "execution": {
     "iopub.execute_input": "2023-06-29T13:29:15.657235Z",
     "iopub.status.busy": "2023-06-29T13:29:15.656757Z",
     "iopub.status.idle": "2023-06-29T13:29:15.662380Z",
     "shell.execute_reply": "2023-06-29T13:29:15.661154Z"
    },
    "papermill": {
     "duration": 0.017936,
     "end_time": "2023-06-29T13:29:15.665009",
     "exception": false,
     "start_time": "2023-06-29T13:29:15.647073",
     "status": "completed"
    },
    "tags": []
   },
   "outputs": [],
   "source": [
    "# Uncomment the line below to receive a hint\n",
    "#step_1.hint()\n",
    "# Uncomment the line below to see the solution\n",
    "#step_1.solution()"
   ]
  },
  {
   "cell_type": "markdown",
   "id": "448d0ef6",
   "metadata": {
    "papermill": {
     "duration": 0.007762,
     "end_time": "2023-06-29T13:29:15.680826",
     "exception": false,
     "start_time": "2023-06-29T13:29:15.673064",
     "status": "completed"
    },
    "tags": []
   },
   "source": [
    "## Step 2: Review the data\n",
    "\n",
    "Use a Python command to print the last 5 rows of the data."
   ]
  },
  {
   "cell_type": "code",
   "execution_count": 5,
   "id": "0ec45f58",
   "metadata": {
    "execution": {
     "iopub.execute_input": "2023-06-29T13:29:15.700389Z",
     "iopub.status.busy": "2023-06-29T13:29:15.699537Z",
     "iopub.status.idle": "2023-06-29T13:29:15.723933Z",
     "shell.execute_reply": "2023-06-29T13:29:15.722822Z"
    },
    "papermill": {
     "duration": 0.037188,
     "end_time": "2023-06-29T13:29:15.726377",
     "exception": false,
     "start_time": "2023-06-29T13:29:15.689189",
     "status": "completed"
    },
    "tags": []
   },
   "outputs": [
    {
     "data": {
      "text/html": [
       "<div>\n",
       "<style scoped>\n",
       "    .dataframe tbody tr th:only-of-type {\n",
       "        vertical-align: middle;\n",
       "    }\n",
       "\n",
       "    .dataframe tbody tr th {\n",
       "        vertical-align: top;\n",
       "    }\n",
       "\n",
       "    .dataframe thead th {\n",
       "        text-align: right;\n",
       "    }\n",
       "</style>\n",
       "<table border=\"1\" class=\"dataframe\">\n",
       "  <thead>\n",
       "    <tr style=\"text-align: right;\">\n",
       "      <th></th>\n",
       "      <th>Avila Adobe</th>\n",
       "      <th>Firehouse Museum</th>\n",
       "      <th>Chinese American Museum</th>\n",
       "      <th>America Tropical Interpretive Center</th>\n",
       "    </tr>\n",
       "    <tr>\n",
       "      <th>Date</th>\n",
       "      <th></th>\n",
       "      <th></th>\n",
       "      <th></th>\n",
       "      <th></th>\n",
       "    </tr>\n",
       "  </thead>\n",
       "  <tbody>\n",
       "    <tr>\n",
       "      <th>2018-07-01</th>\n",
       "      <td>23136</td>\n",
       "      <td>4191</td>\n",
       "      <td>2620</td>\n",
       "      <td>4718</td>\n",
       "    </tr>\n",
       "    <tr>\n",
       "      <th>2018-08-01</th>\n",
       "      <td>20815</td>\n",
       "      <td>4866</td>\n",
       "      <td>2409</td>\n",
       "      <td>3891</td>\n",
       "    </tr>\n",
       "    <tr>\n",
       "      <th>2018-09-01</th>\n",
       "      <td>21020</td>\n",
       "      <td>4956</td>\n",
       "      <td>2146</td>\n",
       "      <td>3180</td>\n",
       "    </tr>\n",
       "    <tr>\n",
       "      <th>2018-10-01</th>\n",
       "      <td>19280</td>\n",
       "      <td>4622</td>\n",
       "      <td>2364</td>\n",
       "      <td>3775</td>\n",
       "    </tr>\n",
       "    <tr>\n",
       "      <th>2018-11-01</th>\n",
       "      <td>17163</td>\n",
       "      <td>4082</td>\n",
       "      <td>2385</td>\n",
       "      <td>4562</td>\n",
       "    </tr>\n",
       "  </tbody>\n",
       "</table>\n",
       "</div>"
      ],
      "text/plain": [
       "            Avila Adobe  Firehouse Museum  Chinese American Museum  \\\n",
       "Date                                                                 \n",
       "2018-07-01        23136              4191                     2620   \n",
       "2018-08-01        20815              4866                     2409   \n",
       "2018-09-01        21020              4956                     2146   \n",
       "2018-10-01        19280              4622                     2364   \n",
       "2018-11-01        17163              4082                     2385   \n",
       "\n",
       "            America Tropical Interpretive Center  \n",
       "Date                                              \n",
       "2018-07-01                                  4718  \n",
       "2018-08-01                                  3891  \n",
       "2018-09-01                                  3180  \n",
       "2018-10-01                                  3775  \n",
       "2018-11-01                                  4562  "
      ]
     },
     "execution_count": 5,
     "metadata": {},
     "output_type": "execute_result"
    }
   ],
   "source": [
    "# Print the last five rows of the data \n",
    "____ # Your code here\n",
    "museum_data.tail()"
   ]
  },
  {
   "cell_type": "markdown",
   "id": "5f6ff69d",
   "metadata": {
    "papermill": {
     "duration": 0.007987,
     "end_time": "2023-06-29T13:29:15.742619",
     "exception": false,
     "start_time": "2023-06-29T13:29:15.734632",
     "status": "completed"
    },
    "tags": []
   },
   "source": [
    "The last row (for `2018-11-01`) tracks the number of visitors to each museum in November 2018, the next-to-last row (for `2018-10-01`) tracks the number of visitors to each museum in October 2018, _and so on_.\n",
    "\n",
    "Use the last 5 rows of the data to answer the questions below."
   ]
  },
  {
   "cell_type": "code",
   "execution_count": 6,
   "id": "089917e7",
   "metadata": {
    "execution": {
     "iopub.execute_input": "2023-06-29T13:29:15.761856Z",
     "iopub.status.busy": "2023-06-29T13:29:15.760703Z",
     "iopub.status.idle": "2023-06-29T13:29:15.771493Z",
     "shell.execute_reply": "2023-06-29T13:29:15.770227Z"
    },
    "papermill": {
     "duration": 0.022961,
     "end_time": "2023-06-29T13:29:15.773871",
     "exception": false,
     "start_time": "2023-06-29T13:29:15.750910",
     "status": "completed"
    },
    "tags": []
   },
   "outputs": [
    {
     "data": {
      "application/javascript": [
       "parent.postMessage({\"jupyterEvent\": \"custom.exercise_interaction\", \"data\": {\"outcomeType\": 1, \"valueTowardsCompletion\": 0.3333333333333333, \"interactionType\": 1, \"questionType\": 1, \"questionId\": \"2_ReviewData\", \"learnToolsVersion\": \"0.3.4\", \"failureMessage\": \"\", \"exceptionClass\": \"\", \"trace\": \"\"}}, \"*\")"
      ],
      "text/plain": [
       "<IPython.core.display.Javascript object>"
      ]
     },
     "metadata": {},
     "output_type": "display_data"
    },
    {
     "data": {
      "text/markdown": [
       "<span style=\"color:#33cc33\">Correct</span>"
      ],
      "text/plain": [
       "Correct"
      ]
     },
     "metadata": {},
     "output_type": "display_data"
    }
   ],
   "source": [
    "# Fill in the line below: How many visitors did the Chinese American Museum \n",
    "# receive in July 2018?\n",
    "ca_museum_jul18 = 2620\n",
    "\n",
    "# Fill in the line below: In October 2018, how many more visitors did Avila \n",
    "# Adobe receive than the Firehouse Museum?\n",
    "avila_oct18 = 14658\n",
    "\n",
    "# Check your answers\n",
    "step_2.check()"
   ]
  },
  {
   "cell_type": "code",
   "execution_count": 7,
   "id": "4dc12afc",
   "metadata": {
    "execution": {
     "iopub.execute_input": "2023-06-29T13:29:15.793943Z",
     "iopub.status.busy": "2023-06-29T13:29:15.793108Z",
     "iopub.status.idle": "2023-06-29T13:29:15.797876Z",
     "shell.execute_reply": "2023-06-29T13:29:15.797085Z"
    },
    "papermill": {
     "duration": 0.017571,
     "end_time": "2023-06-29T13:29:15.800173",
     "exception": false,
     "start_time": "2023-06-29T13:29:15.782602",
     "status": "completed"
    },
    "tags": []
   },
   "outputs": [],
   "source": [
    "# Lines below will give you a hint or solution code\n",
    "#step_2.hint()\n",
    "#step_2.solution()"
   ]
  },
  {
   "cell_type": "markdown",
   "id": "b8453595",
   "metadata": {
    "papermill": {
     "duration": 0.008369,
     "end_time": "2023-06-29T13:29:15.817257",
     "exception": false,
     "start_time": "2023-06-29T13:29:15.808888",
     "status": "completed"
    },
    "tags": []
   },
   "source": [
    "## Step 3: Convince the museum board \n",
    "\n",
    "The Firehouse Museum claims they ran an event in 2014 that brought an incredible number of visitors, and that they should get extra budget to run a similar event again.  The other museums think these types of events aren't that important, and budgets should be split purely based on recent visitors on an average day.  \n",
    "\n",
    "To show the museum board how the event compared to regular traffic at each museum, create a line chart that shows how the number of visitors to each museum evolved over time.  Your figure should have four lines (one for each museum).\n",
    "\n",
    "> **(Optional) Note**: If you have some prior experience with plotting figures in Python, you might be familiar with the `plt.show()` command.  If you decide to use this command, please place it **after** the line of code that checks your answer (in this case, place it after `step_3.check()` below) -- otherwise, the checking code will return an error!"
   ]
  },
  {
   "cell_type": "code",
   "execution_count": null,
   "id": "d707f8d9",
   "metadata": {
    "papermill": {
     "duration": 0.008432,
     "end_time": "2023-06-29T13:29:15.834377",
     "exception": false,
     "start_time": "2023-06-29T13:29:15.825945",
     "status": "completed"
    },
    "tags": []
   },
   "outputs": [],
   "source": []
  },
  {
   "cell_type": "code",
   "execution_count": 8,
   "id": "ee7f59d1",
   "metadata": {
    "execution": {
     "iopub.execute_input": "2023-06-29T13:29:15.854279Z",
     "iopub.status.busy": "2023-06-29T13:29:15.853388Z",
     "iopub.status.idle": "2023-06-29T13:29:16.439157Z",
     "shell.execute_reply": "2023-06-29T13:29:16.437905Z"
    },
    "papermill": {
     "duration": 0.598573,
     "end_time": "2023-06-29T13:29:16.441577",
     "exception": false,
     "start_time": "2023-06-29T13:29:15.843004",
     "status": "completed"
    },
    "tags": []
   },
   "outputs": [
    {
     "data": {
      "application/javascript": [
       "parent.postMessage({\"jupyterEvent\": \"custom.exercise_interaction\", \"data\": {\"outcomeType\": 1, \"valueTowardsCompletion\": 0.3333333333333333, \"interactionType\": 1, \"questionType\": 2, \"questionId\": \"3_PlotAll\", \"learnToolsVersion\": \"0.3.4\", \"failureMessage\": \"\", \"exceptionClass\": \"\", \"trace\": \"\"}}, \"*\")"
      ],
      "text/plain": [
       "<IPython.core.display.Javascript object>"
      ]
     },
     "metadata": {},
     "output_type": "display_data"
    },
    {
     "data": {
      "text/markdown": [
       "<span style=\"color:#33cc33\">Correct</span>"
      ],
      "text/plain": [
       "Correct"
      ]
     },
     "metadata": {},
     "output_type": "display_data"
    },
    {
     "data": {
      "image/png": "[encoded data removed]",
      "text/plain": [
       "<Figure size 640x480 with 1 Axes>"
      ]
     },
     "metadata": {},
     "output_type": "display_data"
    }
   ],
   "source": [
    "# Line chart showing the number of visitors to each museum over time\n",
    "# Your code here\n",
    "sns.lineplot(data=museum_data)\n",
    "\n",
    "\n",
    "# Check your answer\n",
    "step_3.check()"
   ]
  },
  {
   "cell_type": "code",
   "execution_count": 9,
   "id": "2fc4084a",
   "metadata": {
    "execution": {
     "iopub.execute_input": "2023-06-29T13:29:16.464477Z",
     "iopub.status.busy": "2023-06-29T13:29:16.464001Z",
     "iopub.status.idle": "2023-06-29T13:29:16.469037Z",
     "shell.execute_reply": "2023-06-29T13:29:16.467784Z"
    },
    "papermill": {
     "duration": 0.019763,
     "end_time": "2023-06-29T13:29:16.471637",
     "exception": false,
     "start_time": "2023-06-29T13:29:16.451874",
     "status": "completed"
    },
    "tags": []
   },
   "outputs": [],
   "source": [
    "# Lines below will give you a hint or solution code\n",
    "#step_3.hint()\n",
    "#step_3.solution_plot()"
   ]
  },
  {
   "cell_type": "markdown",
   "id": "432b6b70",
   "metadata": {
    "papermill": {
     "duration": 0.010005,
     "end_time": "2023-06-29T13:29:16.492129",
     "exception": false,
     "start_time": "2023-06-29T13:29:16.482124",
     "status": "completed"
    },
    "tags": []
   },
   "source": [
    "## Step 4: Assess seasonality\n",
    "\n",
    "When meeting with the employees at Avila Adobe, you hear that one major pain point is that the number of museum visitors varies greatly with the seasons, with low seasons (when the employees are perfectly staffed and happy) and also high seasons (when the employees are understaffed and stressed).  You realize that if you can predict these high and low seasons, you can plan ahead to hire some additional seasonal employees to help out with the extra work.\n",
    "\n",
    "#### Part A\n",
    "Create a line chart that shows how the number of visitors to Avila Adobe has evolved over time.  (_If your code returns an error, the first thing that you should check is that you've spelled the name of the column correctly!  You must write the name of the column exactly as it appears in the dataset._)"
   ]
  },
  {
   "cell_type": "code",
   "execution_count": 10,
   "id": "fe4d7d92",
   "metadata": {
    "execution": {
     "iopub.execute_input": "2023-06-29T13:29:16.514912Z",
     "iopub.status.busy": "2023-06-29T13:29:16.514520Z",
     "iopub.status.idle": "2023-06-29T13:29:16.927702Z",
     "shell.execute_reply": "2023-06-29T13:29:16.925557Z"
    },
    "papermill": {
     "duration": 0.429263,
     "end_time": "2023-06-29T13:29:16.931776",
     "exception": false,
     "start_time": "2023-06-29T13:29:16.502513",
     "status": "completed"
    },
    "tags": []
   },
   "outputs": [
    {
     "name": "stdout",
     "output_type": "stream",
     "text": [
      "Thank you for creating a line chart!  To see how your code compares to the official solution, please use the code cell below.\n"
     ]
    },
    {
     "data": {
      "application/javascript": [
       "parent.postMessage({\"jupyterEvent\": \"custom.exercise_interaction\", \"data\": {\"outcomeType\": 1, \"valueTowardsCompletion\": 0.3333333333333333, \"interactionType\": 1, \"questionType\": 2, \"questionId\": \"4.1_PlotAvila\", \"learnToolsVersion\": \"0.3.4\", \"failureMessage\": \"\", \"exceptionClass\": \"\", \"trace\": \"\"}}, \"*\")"
      ],
      "text/plain": [
       "<IPython.core.display.Javascript object>"
      ]
     },
     "metadata": {},
     "output_type": "display_data"
    },
    {
     "data": {
      "text/markdown": [
       "<span style=\"color:#33cc33\">Correct</span>"
      ],
      "text/plain": [
       "Correct"
      ]
     },
     "metadata": {},
     "output_type": "display_data"
    },
    {
     "data": {
      "image/png": "[encoded data removed]",
      "text/plain": [
       "<Figure size 640x480 with 1 Axes>"
      ]
     },
     "metadata": {},
     "output_type": "display_data"
    }
   ],
   "source": [
    "# Line plot showing the number of visitors to Avila Adobe over time\n",
    "# Your code here\n",
    "\n",
    "sns.lineplot(data=museum_data['Avila Adobe'])\n",
    "\n",
    "\n",
    "# Check your answer\n",
    "step_4.a.check()"
   ]
  },
  {
   "cell_type": "code",
   "execution_count": 11,
   "id": "8b2ef86c",
   "metadata": {
    "execution": {
     "iopub.execute_input": "2023-06-29T13:29:16.957433Z",
     "iopub.status.busy": "2023-06-29T13:29:16.957004Z",
     "iopub.status.idle": "2023-06-29T13:29:16.962319Z",
     "shell.execute_reply": "2023-06-29T13:29:16.961125Z"
    },
    "papermill": {
     "duration": 0.021718,
     "end_time": "2023-06-29T13:29:16.965010",
     "exception": false,
     "start_time": "2023-06-29T13:29:16.943292",
     "status": "completed"
    },
    "tags": []
   },
   "outputs": [],
   "source": [
    "# Lines below will give you a hint or solution code\n",
    "#step_4.a.hint()\n",
    "#step_4.a.solution_plot()"
   ]
  },
  {
   "cell_type": "markdown",
   "id": "f6a19b16",
   "metadata": {
    "papermill": {
     "duration": 0.011617,
     "end_time": "2023-06-29T13:29:16.988450",
     "exception": false,
     "start_time": "2023-06-29T13:29:16.976833",
     "status": "completed"
    },
    "tags": []
   },
   "source": [
    "#### Part B\n",
    "\n",
    "Does Avila Adobe get more visitors:\n",
    "- in September-February (in LA, the fall and winter months), or \n",
    "- in March-August (in LA, the spring and summer)?  \n",
    "\n",
    "Using this information, when should the museum staff additional seasonal employees?"
   ]
  },
  {
   "cell_type": "code",
   "execution_count": 12,
   "id": "833dbe8e",
   "metadata": {
    "execution": {
     "iopub.execute_input": "2023-06-29T13:29:17.014773Z",
     "iopub.status.busy": "2023-06-29T13:29:17.014374Z",
     "iopub.status.idle": "2023-06-29T13:29:17.019628Z",
     "shell.execute_reply": "2023-06-29T13:29:17.018270Z"
    },
    "papermill": {
     "duration": 0.02169,
     "end_time": "2023-06-29T13:29:17.022228",
     "exception": false,
     "start_time": "2023-06-29T13:29:17.000538",
     "status": "completed"
    },
    "tags": []
   },
   "outputs": [],
   "source": [
    "#step_4.b.hint()"
   ]
  },
  {
   "cell_type": "code",
   "execution_count": 13,
   "id": "ae82d073",
   "metadata": {
    "execution": {
     "iopub.execute_input": "2023-06-29T13:29:17.047643Z",
     "iopub.status.busy": "2023-06-29T13:29:17.047234Z",
     "iopub.status.idle": "2023-06-29T13:29:17.057353Z",
     "shell.execute_reply": "2023-06-29T13:29:17.056184Z"
    },
    "papermill": {
     "duration": 0.025567,
     "end_time": "2023-06-29T13:29:17.059799",
     "exception": false,
     "start_time": "2023-06-29T13:29:17.034232",
     "status": "completed"
    },
    "tags": []
   },
   "outputs": [
    {
     "data": {
      "application/javascript": [
       "parent.postMessage({\"jupyterEvent\": \"custom.exercise_interaction\", \"data\": {\"interactionType\": 3, \"questionType\": 4, \"questionId\": \"4.2_ThinkAvila\", \"learnToolsVersion\": \"0.3.4\", \"valueTowardsCompletion\": 0.0, \"failureMessage\": \"\", \"exceptionClass\": \"\", \"trace\": \"\", \"outcomeType\": 4}}, \"*\")"
      ],
      "text/plain": [
       "<IPython.core.display.Javascript object>"
      ]
     },
     "metadata": {},
     "output_type": "display_data"
    },
    {
     "data": {
      "text/markdown": [
       "<span style=\"color:#33cc99\">Solution:</span> The line chart generally dips to relatively low values around the early part of each year (in December and January), and reaches its highest values in the middle of the year (especially around May and June).  Thus, Avila Adobe usually gets more visitors in March-August (or the spring and summer months).  With this in mind, Avila Adobe could definitely benefit from hiring more seasonal employees to help with the extra work in March-August (the spring and summer)!"
      ],
      "text/plain": [
       "Solution: The line chart generally dips to relatively low values around the early part of each year (in December and January), and reaches its highest values in the middle of the year (especially around May and June).  Thus, Avila Adobe usually gets more visitors in March-August (or the spring and summer months).  With this in mind, Avila Adobe could definitely benefit from hiring more seasonal employees to help with the extra work in March-August (the spring and summer)!"
      ]
     },
     "metadata": {},
     "output_type": "display_data"
    }
   ],
   "source": [
    "# Check your answer (Run this code cell to receive credit!)\n",
    "step_4.b.solution()"
   ]
  },
  {
   "cell_type": "markdown",
   "id": "66a8ffa1",
   "metadata": {
    "papermill": {
     "duration": 0.011464,
     "end_time": "2023-06-29T13:29:17.082850",
     "exception": false,
     "start_time": "2023-06-29T13:29:17.071386",
     "status": "completed"
    },
    "tags": []
   },
   "source": [
    "# Keep going\n",
    "\n",
    "Move on to learn about **[bar charts and heatmaps](https://www.kaggle.com/alexisbcook/bar-charts-and-heatmaps)** with a new dataset!"
   ]
  },
  {
   "cell_type": "markdown",
   "id": "985f21f5",
   "metadata": {
    "papermill": {
     "duration": 0.011511,
     "end_time": "2023-06-29T13:29:17.106635",
     "exception": false,
     "start_time": "2023-06-29T13:29:17.095124",
     "status": "completed"
    },
    "tags": []
   },
   "source": [
    "---\n",
    "\n",
    "\n",
    "\n",
    "\n",
    "*Have questions or comments? Visit the [course discussion forum](https://www.kaggle.com/learn/data-visualization/discussion) to chat with other learners.*"
   ]
  }
 ],
 "metadata": {
  "kernelspec": {
   "display_name": "Python 3",
   "language": "python",
   "name": "python3"
  },
  "language_info": {
   "codemirror_mode": {
    "name": "ipython",
    "version": 3
   },
   "file_extension": ".py",
   "mimetype": "text/x-python",
   "name": "python",
   "nbconvert_exporter": "python",
   "pygments_lexer": "ipython3",
   "version": "3.10.10"
  },
  "papermill": {
   "default_parameters": {},
   "duration": 16.950831,
   "end_time": "2023-06-29T13:29:18.142418",
   "environment_variables": {},
   "exception": null,
   "input_path": "__notebook__.ipynb",
   "output_path": "__notebook__.ipynb",
   "parameters": {},
   "start_time": "2023-06-29T13:29:01.191587",
   "version": "2.4.0"
  }
 },
 "nbformat": 4,
 "nbformat_minor": 5
}
