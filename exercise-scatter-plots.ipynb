{
 "cells": [
  {
   "cell_type": "markdown",
   "id": "00036b2e",
   "metadata": {
    "papermill": {
     "duration": 0.010122,
     "end_time": "2023-06-29T13:31:35.444389",
     "exception": false,
     "start_time": "2023-06-29T13:31:35.434267",
     "status": "completed"
    },
    "tags": []
   },
   "source": [
    "**This notebook is an exercise in the [Data Visualization](https://www.kaggle.com/learn/data-visualization) course.  You can reference the tutorial at [this link](https://www.kaggle.com/alexisbcook/scatter-plots).**\n",
    "\n",
    "---\n"
   ]
  },
  {
   "cell_type": "markdown",
   "id": "f0f3957c",
   "metadata": {
    "papermill": {
     "duration": 0.007132,
     "end_time": "2023-06-29T13:31:35.459797",
     "exception": false,
     "start_time": "2023-06-29T13:31:35.452665",
     "status": "completed"
    },
    "tags": []
   },
   "source": [
    "In this exercise, you will use your new knowledge to propose a solution to a real-world scenario.  To succeed, you will need to import data into Python, answer questions using the data, and generate **scatter plots** to understand patterns in the data.\n",
    "\n",
    "## Scenario\n",
    "\n",
    "You work for a major candy producer, and your goal is to write a report that your company can use to guide the design of its next product.  Soon after starting your research, you stumble across this [very interesting dataset](https://fivethirtyeight.com/features/the-ultimate-halloween-candy-power-ranking/) containing results from a fun survey to crowdsource favorite candies.\n",
    "\n",
    "## Setup\n",
    "\n",
    "Run the next cell to import and configure the Python libraries that you need to complete the exercise."
   ]
  },
  {
   "cell_type": "code",
   "execution_count": 1,
   "id": "d8113914",
   "metadata": {
    "execution": {
     "iopub.execute_input": "2023-06-29T13:31:35.476392Z",
     "iopub.status.busy": "2023-06-29T13:31:35.476038Z",
     "iopub.status.idle": "2023-06-29T13:31:36.844823Z",
     "shell.execute_reply": "2023-06-29T13:31:36.843863Z"
    },
    "papermill": {
     "duration": 1.379609,
     "end_time": "2023-06-29T13:31:36.846770",
     "exception": false,
     "start_time": "2023-06-29T13:31:35.467161",
     "status": "completed"
    },
    "tags": []
   },
   "outputs": [
    {
     "name": "stdout",
     "output_type": "stream",
     "text": [
      "Setup Complete\n"
     ]
    }
   ],
   "source": [
    "import pandas as pd\n",
    "pd.plotting.register_matplotlib_converters()\n",
    "import matplotlib.pyplot as plt\n",
    "%matplotlib inline\n",
    "import seaborn as sns\n",
    "print(\"Setup Complete\")"
   ]
  },
  {
   "cell_type": "markdown",
   "id": "ce02bf68",
   "metadata": {
    "papermill": {
     "duration": 0.008166,
     "end_time": "2023-06-29T13:31:36.862392",
     "exception": false,
     "start_time": "2023-06-29T13:31:36.854226",
     "status": "completed"
    },
    "tags": []
   },
   "source": [
    "The questions below will give you feedback on your work. Run the following cell to set up our feedback system."
   ]
  },
  {
   "cell_type": "code",
   "execution_count": 2,
   "id": "349576f9",
   "metadata": {
    "execution": {
     "iopub.execute_input": "2023-06-29T13:31:36.879949Z",
     "iopub.status.busy": "2023-06-29T13:31:36.879586Z",
     "iopub.status.idle": "2023-06-29T13:31:36.952964Z",
     "shell.execute_reply": "2023-06-29T13:31:36.951590Z"
    },
    "papermill": {
     "duration": 0.08566,
     "end_time": "2023-06-29T13:31:36.955691",
     "exception": false,
     "start_time": "2023-06-29T13:31:36.870031",
     "status": "completed"
    },
    "tags": []
   },
   "outputs": [
    {
     "name": "stdout",
     "output_type": "stream",
     "text": [
      "Setup Complete\n"
     ]
    }
   ],
   "source": [
    "# Set up code checking\n",
    "import os\n",
    "if not os.path.exists(\"../input/candy.csv\"):\n",
    "    os.symlink(\"../input/data-for-datavis/candy.csv\", \"../input/candy.csv\") \n",
    "from learntools.core import binder\n",
    "binder.bind(globals())\n",
    "from learntools.data_viz_to_coder.ex4 import *\n",
    "print(\"Setup Complete\")"
   ]
  },
  {
   "cell_type": "markdown",
   "id": "e0b7b416",
   "metadata": {
    "papermill": {
     "duration": 0.007193,
     "end_time": "2023-06-29T13:31:36.970780",
     "exception": false,
     "start_time": "2023-06-29T13:31:36.963587",
     "status": "completed"
    },
    "tags": []
   },
   "source": [
    "## Step 1: Load the Data\n",
    "\n",
    "Read the candy data file into `candy_data`.  Use the `\"id\"` column to label the rows."
   ]
  },
  {
   "cell_type": "code",
   "execution_count": 3,
   "id": "bdf4a725",
   "metadata": {
    "execution": {
     "iopub.execute_input": "2023-06-29T13:31:36.988381Z",
     "iopub.status.busy": "2023-06-29T13:31:36.986890Z",
     "iopub.status.idle": "2023-06-29T13:31:37.006796Z",
     "shell.execute_reply": "2023-06-29T13:31:37.005412Z"
    },
    "papermill": {
     "duration": 0.031771,
     "end_time": "2023-06-29T13:31:37.009986",
     "exception": false,
     "start_time": "2023-06-29T13:31:36.978215",
     "status": "completed"
    },
    "tags": []
   },
   "outputs": [
    {
     "data": {
      "application/javascript": [
       "parent.postMessage({\"jupyterEvent\": \"custom.exercise_interaction\", \"data\": {\"outcomeType\": 1, \"valueTowardsCompletion\": 0.3333333333333333, \"interactionType\": 1, \"questionType\": 1, \"questionId\": \"1_LoadData\", \"learnToolsVersion\": \"0.3.4\", \"failureMessage\": \"\", \"exceptionClass\": \"\", \"trace\": \"\"}}, \"*\")"
      ],
      "text/plain": [
       "<IPython.core.display.Javascript object>"
      ]
     },
     "metadata": {},
     "output_type": "display_data"
    },
    {
     "data": {
      "text/markdown": [
       "<span style=\"color:#33cc33\">Correct</span>"
      ],
      "text/plain": [
       "Correct"
      ]
     },
     "metadata": {},
     "output_type": "display_data"
    }
   ],
   "source": [
    "# Path of the file to read\n",
    "candy_filepath = \"../input/candy.csv\"\n",
    "\n",
    "# Fill in the line below to read the file into a variable candy_data\n",
    "candy_data = pd.read_csv(candy_filepath, index_col=\"id\")\n",
    "\n",
    "# Run the line below with no changes to check that you've loaded the data correctly\n",
    "step_1.check()"
   ]
  },
  {
   "cell_type": "code",
   "execution_count": 4,
   "id": "790c87a7",
   "metadata": {
    "execution": {
     "iopub.execute_input": "2023-06-29T13:31:37.027793Z",
     "iopub.status.busy": "2023-06-29T13:31:37.027118Z",
     "iopub.status.idle": "2023-06-29T13:31:37.031018Z",
     "shell.execute_reply": "2023-06-29T13:31:37.029869Z"
    },
    "papermill": {
     "duration": 0.015144,
     "end_time": "2023-06-29T13:31:37.033330",
     "exception": false,
     "start_time": "2023-06-29T13:31:37.018186",
     "status": "completed"
    },
    "tags": []
   },
   "outputs": [],
   "source": [
    "# Lines below will give you a hint or solution code\n",
    "#step_1.hint()\n",
    "#step_1.solution()"
   ]
  },
  {
   "cell_type": "markdown",
   "id": "fb29e408",
   "metadata": {
    "papermill": {
     "duration": 0.007181,
     "end_time": "2023-06-29T13:31:37.048334",
     "exception": false,
     "start_time": "2023-06-29T13:31:37.041153",
     "status": "completed"
    },
    "tags": []
   },
   "source": [
    "## Step 2: Review the data\n",
    "\n",
    "Use a Python command to print the first five rows of the data."
   ]
  },
  {
   "cell_type": "code",
   "execution_count": 5,
   "id": "b3800394",
   "metadata": {
    "execution": {
     "iopub.execute_input": "2023-06-29T13:31:37.064631Z",
     "iopub.status.busy": "2023-06-29T13:31:37.064291Z",
     "iopub.status.idle": "2023-06-29T13:31:37.089845Z",
     "shell.execute_reply": "2023-06-29T13:31:37.088760Z"
    },
    "papermill": {
     "duration": 0.036148,
     "end_time": "2023-06-29T13:31:37.091964",
     "exception": false,
     "start_time": "2023-06-29T13:31:37.055816",
     "status": "completed"
    },
    "tags": []
   },
   "outputs": [
    {
     "data": {
      "text/html": [
       "<div>\n",
       "<style scoped>\n",
       "    .dataframe tbody tr th:only-of-type {\n",
       "        vertical-align: middle;\n",
       "    }\n",
       "\n",
       "    .dataframe tbody tr th {\n",
       "        vertical-align: top;\n",
       "    }\n",
       "\n",
       "    .dataframe thead th {\n",
       "        text-align: right;\n",
       "    }\n",
       "</style>\n",
       "<table border=\"1\" class=\"dataframe\">\n",
       "  <thead>\n",
       "    <tr style=\"text-align: right;\">\n",
       "      <th></th>\n",
       "      <th>competitorname</th>\n",
       "      <th>chocolate</th>\n",
       "      <th>fruity</th>\n",
       "      <th>caramel</th>\n",
       "      <th>peanutyalmondy</th>\n",
       "      <th>nougat</th>\n",
       "      <th>crispedricewafer</th>\n",
       "      <th>hard</th>\n",
       "      <th>bar</th>\n",
       "      <th>pluribus</th>\n",
       "      <th>sugarpercent</th>\n",
       "      <th>pricepercent</th>\n",
       "      <th>winpercent</th>\n",
       "    </tr>\n",
       "    <tr>\n",
       "      <th>id</th>\n",
       "      <th></th>\n",
       "      <th></th>\n",
       "      <th></th>\n",
       "      <th></th>\n",
       "      <th></th>\n",
       "      <th></th>\n",
       "      <th></th>\n",
       "      <th></th>\n",
       "      <th></th>\n",
       "      <th></th>\n",
       "      <th></th>\n",
       "      <th></th>\n",
       "      <th></th>\n",
       "    </tr>\n",
       "  </thead>\n",
       "  <tbody>\n",
       "    <tr>\n",
       "      <th>0</th>\n",
       "      <td>100 Grand</td>\n",
       "      <td>Yes</td>\n",
       "      <td>No</td>\n",
       "      <td>Yes</td>\n",
       "      <td>No</td>\n",
       "      <td>No</td>\n",
       "      <td>Yes</td>\n",
       "      <td>No</td>\n",
       "      <td>Yes</td>\n",
       "      <td>No</td>\n",
       "      <td>0.732</td>\n",
       "      <td>0.860</td>\n",
       "      <td>66.971725</td>\n",
       "    </tr>\n",
       "    <tr>\n",
       "      <th>1</th>\n",
       "      <td>3 Musketeers</td>\n",
       "      <td>Yes</td>\n",
       "      <td>No</td>\n",
       "      <td>No</td>\n",
       "      <td>No</td>\n",
       "      <td>Yes</td>\n",
       "      <td>No</td>\n",
       "      <td>No</td>\n",
       "      <td>Yes</td>\n",
       "      <td>No</td>\n",
       "      <td>0.604</td>\n",
       "      <td>0.511</td>\n",
       "      <td>67.602936</td>\n",
       "    </tr>\n",
       "    <tr>\n",
       "      <th>2</th>\n",
       "      <td>Air Heads</td>\n",
       "      <td>No</td>\n",
       "      <td>Yes</td>\n",
       "      <td>No</td>\n",
       "      <td>No</td>\n",
       "      <td>No</td>\n",
       "      <td>No</td>\n",
       "      <td>No</td>\n",
       "      <td>No</td>\n",
       "      <td>No</td>\n",
       "      <td>0.906</td>\n",
       "      <td>0.511</td>\n",
       "      <td>52.341465</td>\n",
       "    </tr>\n",
       "    <tr>\n",
       "      <th>3</th>\n",
       "      <td>Almond Joy</td>\n",
       "      <td>Yes</td>\n",
       "      <td>No</td>\n",
       "      <td>No</td>\n",
       "      <td>Yes</td>\n",
       "      <td>No</td>\n",
       "      <td>No</td>\n",
       "      <td>No</td>\n",
       "      <td>Yes</td>\n",
       "      <td>No</td>\n",
       "      <td>0.465</td>\n",
       "      <td>0.767</td>\n",
       "      <td>50.347546</td>\n",
       "    </tr>\n",
       "    <tr>\n",
       "      <th>4</th>\n",
       "      <td>Baby Ruth</td>\n",
       "      <td>Yes</td>\n",
       "      <td>No</td>\n",
       "      <td>Yes</td>\n",
       "      <td>Yes</td>\n",
       "      <td>Yes</td>\n",
       "      <td>No</td>\n",
       "      <td>No</td>\n",
       "      <td>Yes</td>\n",
       "      <td>No</td>\n",
       "      <td>0.604</td>\n",
       "      <td>0.767</td>\n",
       "      <td>56.914547</td>\n",
       "    </tr>\n",
       "  </tbody>\n",
       "</table>\n",
       "</div>"
      ],
      "text/plain": [
       "   competitorname chocolate fruity caramel peanutyalmondy nougat  \\\n",
       "id                                                                 \n",
       "0       100 Grand       Yes     No     Yes             No     No   \n",
       "1    3 Musketeers       Yes     No      No             No    Yes   \n",
       "2       Air Heads        No    Yes      No             No     No   \n",
       "3      Almond Joy       Yes     No      No            Yes     No   \n",
       "4       Baby Ruth       Yes     No     Yes            Yes    Yes   \n",
       "\n",
       "   crispedricewafer hard  bar pluribus  sugarpercent  pricepercent  winpercent  \n",
       "id                                                                              \n",
       "0               Yes   No  Yes       No         0.732         0.860   66.971725  \n",
       "1                No   No  Yes       No         0.604         0.511   67.602936  \n",
       "2                No   No   No       No         0.906         0.511   52.341465  \n",
       "3                No   No  Yes       No         0.465         0.767   50.347546  \n",
       "4                No   No  Yes       No         0.604         0.767   56.914547  "
      ]
     },
     "execution_count": 5,
     "metadata": {},
     "output_type": "execute_result"
    }
   ],
   "source": [
    "# Print the first five rows of the data\n",
    "____ # Your code here\n",
    "candy_data.head()"
   ]
  },
  {
   "cell_type": "markdown",
   "id": "457c6d5a",
   "metadata": {
    "papermill": {
     "duration": 0.007393,
     "end_time": "2023-06-29T13:31:37.107343",
     "exception": false,
     "start_time": "2023-06-29T13:31:37.099950",
     "status": "completed"
    },
    "tags": []
   },
   "source": [
    "The dataset contains 83 rows, where each corresponds to a different candy bar.  There are 13 columns:\n",
    "- `'competitorname'` contains the name of the candy bar. \n",
    "- the next **9** columns (from `'chocolate'` to `'pluribus'`) describe the candy.  For instance, rows with chocolate candies have `\"Yes\"` in the `'chocolate'` column (and candies without chocolate have `\"No\"` in the same column).\n",
    "- `'sugarpercent'` provides some indication of the amount of sugar, where higher values signify higher sugar content.\n",
    "- `'pricepercent'` shows the price per unit, relative to the other candies in the dataset.\n",
    "- `'winpercent'` is calculated from the survey results; higher values indicate that the candy was more popular with survey respondents.\n",
    "\n",
    "Use the first five rows of the data to answer the questions below."
   ]
  },
  {
   "cell_type": "code",
   "execution_count": 6,
   "id": "073caa2c",
   "metadata": {
    "execution": {
     "iopub.execute_input": "2023-06-29T13:31:37.124595Z",
     "iopub.status.busy": "2023-06-29T13:31:37.124260Z",
     "iopub.status.idle": "2023-06-29T13:31:37.132746Z",
     "shell.execute_reply": "2023-06-29T13:31:37.131814Z"
    },
    "papermill": {
     "duration": 0.020099,
     "end_time": "2023-06-29T13:31:37.135218",
     "exception": false,
     "start_time": "2023-06-29T13:31:37.115119",
     "status": "completed"
    },
    "tags": []
   },
   "outputs": [
    {
     "data": {
      "application/javascript": [
       "parent.postMessage({\"jupyterEvent\": \"custom.exercise_interaction\", \"data\": {\"outcomeType\": 1, \"valueTowardsCompletion\": 0.3333333333333333, \"interactionType\": 1, \"questionType\": 1, \"questionId\": \"2_ReviewData\", \"learnToolsVersion\": \"0.3.4\", \"failureMessage\": \"\", \"exceptionClass\": \"\", \"trace\": \"\"}}, \"*\")"
      ],
      "text/plain": [
       "<IPython.core.display.Javascript object>"
      ]
     },
     "metadata": {},
     "output_type": "display_data"
    },
    {
     "data": {
      "text/markdown": [
       "<span style=\"color:#33cc33\">Correct</span>"
      ],
      "text/plain": [
       "Correct"
      ]
     },
     "metadata": {},
     "output_type": "display_data"
    }
   ],
   "source": [
    "# Fill in the line below: Which candy was more popular with survey respondents:\n",
    "# '3 Musketeers' or 'Almond Joy'?  (Please enclose your answer in single quotes.)\n",
    "more_popular = '3 Musketeers'\n",
    "\n",
    "# Fill in the line below: Which candy has higher sugar content: 'Air Heads'\n",
    "# or 'Baby Ruth'? (Please enclose your answer in single quotes.)\n",
    "more_sugar = 'Air Heads'\n",
    "\n",
    "# Check your answers\n",
    "step_2.check()"
   ]
  },
  {
   "cell_type": "code",
   "execution_count": 7,
   "id": "6ea11d76",
   "metadata": {
    "execution": {
     "iopub.execute_input": "2023-06-29T13:31:37.153540Z",
     "iopub.status.busy": "2023-06-29T13:31:37.153204Z",
     "iopub.status.idle": "2023-06-29T13:31:37.158114Z",
     "shell.execute_reply": "2023-06-29T13:31:37.156987Z"
    },
    "papermill": {
     "duration": 0.016186,
     "end_time": "2023-06-29T13:31:37.160080",
     "exception": false,
     "start_time": "2023-06-29T13:31:37.143894",
     "status": "completed"
    },
    "tags": []
   },
   "outputs": [],
   "source": [
    "# Lines below will give you a hint or solution code\n",
    "#step_2.hint()\n",
    "#step_2.solution()"
   ]
  },
  {
   "cell_type": "markdown",
   "id": "9c51a68b",
   "metadata": {
    "papermill": {
     "duration": 0.007883,
     "end_time": "2023-06-29T13:31:37.176317",
     "exception": false,
     "start_time": "2023-06-29T13:31:37.168434",
     "status": "completed"
    },
    "tags": []
   },
   "source": [
    "## Step 3: The role of sugar\n",
    "\n",
    "Do people tend to prefer candies with higher sugar content?  \n",
    "\n",
    "#### Part A\n",
    "\n",
    "Create a scatter plot that shows the relationship between `'sugarpercent'` (on the horizontal x-axis) and `'winpercent'` (on the vertical y-axis).  _Don't add a regression line just yet -- you'll do that in the next step!_"
   ]
  },
  {
   "cell_type": "code",
   "execution_count": 8,
   "id": "d96f8a4a",
   "metadata": {
    "execution": {
     "iopub.execute_input": "2023-06-29T13:31:37.194720Z",
     "iopub.status.busy": "2023-06-29T13:31:37.194419Z",
     "iopub.status.idle": "2023-06-29T13:31:37.433057Z",
     "shell.execute_reply": "2023-06-29T13:31:37.431784Z"
    },
    "papermill": {
     "duration": 0.250103,
     "end_time": "2023-06-29T13:31:37.435235",
     "exception": false,
     "start_time": "2023-06-29T13:31:37.185132",
     "status": "completed"
    },
    "tags": []
   },
   "outputs": [
    {
     "data": {
      "application/javascript": [
       "parent.postMessage({\"jupyterEvent\": \"custom.exercise_interaction\", \"data\": {\"outcomeType\": 1, \"valueTowardsCompletion\": 0.3333333333333333, \"interactionType\": 1, \"questionType\": 2, \"questionId\": \"3.1_PlotBlueScatter\", \"learnToolsVersion\": \"0.3.4\", \"failureMessage\": \"\", \"exceptionClass\": \"\", \"trace\": \"\"}}, \"*\")"
      ],
      "text/plain": [
       "<IPython.core.display.Javascript object>"
      ]
     },
     "metadata": {},
     "output_type": "display_data"
    },
    {
     "data": {
      "text/markdown": [
       "<span style=\"color:#33cc33\">Correct</span>"
      ],
      "text/plain": [
       "Correct"
      ]
     },
     "metadata": {},
     "output_type": "display_data"
    },
    {
     "data": {
      "image/png": "[encoded data removed]",
      "text/plain": [
       "<Figure size 640x480 with 1 Axes>"
      ]
     },
     "metadata": {},
     "output_type": "display_data"
    }
   ],
   "source": [
    "# Scatter plot showing the relationship between 'sugarpercent' and 'winpercent'\n",
    "____ # Your code here\n",
    "sns.scatterplot(x=candy_data['sugarpercent'],y=candy_data['winpercent'])\n",
    "# Check your answer\n",
    "step_3.a.check()"
   ]
  },
  {
   "cell_type": "code",
   "execution_count": 9,
   "id": "a84fe900",
   "metadata": {
    "execution": {
     "iopub.execute_input": "2023-06-29T13:31:37.454421Z",
     "iopub.status.busy": "2023-06-29T13:31:37.453833Z",
     "iopub.status.idle": "2023-06-29T13:31:37.458447Z",
     "shell.execute_reply": "2023-06-29T13:31:37.456833Z"
    },
    "papermill": {
     "duration": 0.016126,
     "end_time": "2023-06-29T13:31:37.460143",
     "exception": false,
     "start_time": "2023-06-29T13:31:37.444017",
     "status": "completed"
    },
    "tags": []
   },
   "outputs": [],
   "source": [
    "# Lines below will give you a hint or solution code\n",
    "#step_3.a.hint()\n",
    "#step_3.a.solution_plot()"
   ]
  },
  {
   "cell_type": "markdown",
   "id": "468f5d0d",
   "metadata": {
    "papermill": {
     "duration": 0.008064,
     "end_time": "2023-06-29T13:31:37.476571",
     "exception": false,
     "start_time": "2023-06-29T13:31:37.468507",
     "status": "completed"
    },
    "tags": []
   },
   "source": [
    "#### Part B\n",
    "\n",
    "Does the scatter plot show a **strong** correlation between the two variables?  If so, are candies with more sugar relatively more or less popular with the survey respondents?"
   ]
  },
  {
   "cell_type": "code",
   "execution_count": 10,
   "id": "04ea4e40",
   "metadata": {
    "execution": {
     "iopub.execute_input": "2023-06-29T13:31:37.494727Z",
     "iopub.status.busy": "2023-06-29T13:31:37.494301Z",
     "iopub.status.idle": "2023-06-29T13:31:37.498393Z",
     "shell.execute_reply": "2023-06-29T13:31:37.497455Z"
    },
    "papermill": {
     "duration": 0.015049,
     "end_time": "2023-06-29T13:31:37.500039",
     "exception": false,
     "start_time": "2023-06-29T13:31:37.484990",
     "status": "completed"
    },
    "tags": []
   },
   "outputs": [],
   "source": [
    "#step_3.b.hint()"
   ]
  },
  {
   "cell_type": "code",
   "execution_count": 11,
   "id": "6f09ded3",
   "metadata": {
    "execution": {
     "iopub.execute_input": "2023-06-29T13:31:37.518545Z",
     "iopub.status.busy": "2023-06-29T13:31:37.517900Z",
     "iopub.status.idle": "2023-06-29T13:31:37.523879Z",
     "shell.execute_reply": "2023-06-29T13:31:37.523251Z"
    },
    "papermill": {
     "duration": 0.017031,
     "end_time": "2023-06-29T13:31:37.525360",
     "exception": false,
     "start_time": "2023-06-29T13:31:37.508329",
     "status": "completed"
    },
    "tags": []
   },
   "outputs": [
    {
     "data": {
      "application/javascript": [
       "parent.postMessage({\"jupyterEvent\": \"custom.exercise_interaction\", \"data\": {\"interactionType\": 3, \"questionType\": 4, \"questionId\": \"3.2_ThinkBlueScatter\", \"learnToolsVersion\": \"0.3.4\", \"valueTowardsCompletion\": 0.0, \"failureMessage\": \"\", \"exceptionClass\": \"\", \"trace\": \"\", \"outcomeType\": 4}}, \"*\")"
      ],
      "text/plain": [
       "<IPython.core.display.Javascript object>"
      ]
     },
     "metadata": {},
     "output_type": "display_data"
    },
    {
     "data": {
      "text/markdown": [
       "<span style=\"color:#33cc99\">Solution:</span> The scatter plot does not show a strong correlation between the two variables. Since there is no clear relationship between the two variables, this tells us that sugar content does not play a strong role in candy popularity."
      ],
      "text/plain": [
       "Solution: The scatter plot does not show a strong correlation between the two variables. Since there is no clear relationship between the two variables, this tells us that sugar content does not play a strong role in candy popularity."
      ]
     },
     "metadata": {},
     "output_type": "display_data"
    }
   ],
   "source": [
    "# Check your answer (Run this code cell to receive credit!)\n",
    "step_3.b.solution()"
   ]
  },
  {
   "cell_type": "markdown",
   "id": "bfd4083f",
   "metadata": {
    "papermill": {
     "duration": 0.00821,
     "end_time": "2023-06-29T13:31:37.541997",
     "exception": false,
     "start_time": "2023-06-29T13:31:37.533787",
     "status": "completed"
    },
    "tags": []
   },
   "source": [
    "## Step 4: Take a closer look\n",
    "\n",
    "#### Part A\n",
    "\n",
    "Create the same scatter plot you created in **Step 3**, but now with a regression line!"
   ]
  },
  {
   "cell_type": "code",
   "execution_count": 12,
   "id": "616b391c",
   "metadata": {
    "execution": {
     "iopub.execute_input": "2023-06-29T13:31:37.560484Z",
     "iopub.status.busy": "2023-06-29T13:31:37.560113Z",
     "iopub.status.idle": "2023-06-29T13:31:37.849795Z",
     "shell.execute_reply": "2023-06-29T13:31:37.848738Z"
    },
    "papermill": {
     "duration": 0.3013,
     "end_time": "2023-06-29T13:31:37.851799",
     "exception": false,
     "start_time": "2023-06-29T13:31:37.550499",
     "status": "completed"
    },
    "tags": []
   },
   "outputs": [
    {
     "data": {
      "application/javascript": [
       "parent.postMessage({\"jupyterEvent\": \"custom.exercise_interaction\", \"data\": {\"outcomeType\": 1, \"valueTowardsCompletion\": 0.3333333333333333, \"interactionType\": 1, \"questionType\": 2, \"questionId\": \"4.1_PlotBlueReg\", \"learnToolsVersion\": \"0.3.4\", \"failureMessage\": \"\", \"exceptionClass\": \"\", \"trace\": \"\"}}, \"*\")"
      ],
      "text/plain": [
       "<IPython.core.display.Javascript object>"
      ]
     },
     "metadata": {},
     "output_type": "display_data"
    },
    {
     "data": {
      "text/markdown": [
       "<span style=\"color:#33cc33\">Correct</span>"
      ],
      "text/plain": [
       "Correct"
      ]
     },
     "metadata": {},
     "output_type": "display_data"
    },
    {
     "data": {
      "image/png": "[encoded data removed]",
      "text/plain": [
       "<Figure size 640x480 with 1 Axes>"
      ]
     },
     "metadata": {},
     "output_type": "display_data"
    }
   ],
   "source": [
    "# Scatter plot w/ regression line showing the relationship between 'sugarpercent' and 'winpercent'\n",
    "____ # Your code here\n",
    "sns.regplot(x=candy_data['sugarpercent'],y=candy_data['winpercent'])\n",
    "# Check your answer\n",
    "step_4.a.check()"
   ]
  },
  {
   "cell_type": "code",
   "execution_count": 13,
   "id": "13e264dc",
   "metadata": {
    "execution": {
     "iopub.execute_input": "2023-06-29T13:31:37.874041Z",
     "iopub.status.busy": "2023-06-29T13:31:37.873314Z",
     "iopub.status.idle": "2023-06-29T13:31:37.877880Z",
     "shell.execute_reply": "2023-06-29T13:31:37.876705Z"
    },
    "papermill": {
     "duration": 0.018561,
     "end_time": "2023-06-29T13:31:37.880754",
     "exception": false,
     "start_time": "2023-06-29T13:31:37.862193",
     "status": "completed"
    },
    "tags": []
   },
   "outputs": [],
   "source": [
    "# Lines below will give you a hint or solution code\n",
    "#step_4.a.hint()\n",
    "#step_4.a.solution_plot()"
   ]
  },
  {
   "cell_type": "markdown",
   "id": "e7c6098e",
   "metadata": {
    "papermill": {
     "duration": 0.009256,
     "end_time": "2023-06-29T13:31:37.899872",
     "exception": false,
     "start_time": "2023-06-29T13:31:37.890616",
     "status": "completed"
    },
    "tags": []
   },
   "source": [
    "#### Part B\n",
    "\n",
    "According to the plot above, is there a **slight** correlation between `'winpercent'` and `'sugarpercent'`?  What does this tell you about the candy that people tend to prefer?"
   ]
  },
  {
   "cell_type": "code",
   "execution_count": 14,
   "id": "be73ece1",
   "metadata": {
    "execution": {
     "iopub.execute_input": "2023-06-29T13:31:37.919785Z",
     "iopub.status.busy": "2023-06-29T13:31:37.919459Z",
     "iopub.status.idle": "2023-06-29T13:31:37.923738Z",
     "shell.execute_reply": "2023-06-29T13:31:37.922685Z"
    },
    "papermill": {
     "duration": 0.016463,
     "end_time": "2023-06-29T13:31:37.925719",
     "exception": false,
     "start_time": "2023-06-29T13:31:37.909256",
     "status": "completed"
    },
    "tags": []
   },
   "outputs": [],
   "source": [
    "#step_4.b.hint()"
   ]
  },
  {
   "cell_type": "code",
   "execution_count": 15,
   "id": "308b2428",
   "metadata": {
    "execution": {
     "iopub.execute_input": "2023-06-29T13:31:37.946969Z",
     "iopub.status.busy": "2023-06-29T13:31:37.946654Z",
     "iopub.status.idle": "2023-06-29T13:31:37.955097Z",
     "shell.execute_reply": "2023-06-29T13:31:37.954095Z"
    },
    "papermill": {
     "duration": 0.021275,
     "end_time": "2023-06-29T13:31:37.957060",
     "exception": false,
     "start_time": "2023-06-29T13:31:37.935785",
     "status": "completed"
    },
    "tags": []
   },
   "outputs": [
    {
     "data": {
      "application/javascript": [
       "parent.postMessage({\"jupyterEvent\": \"custom.exercise_interaction\", \"data\": {\"interactionType\": 3, \"questionType\": 4, \"questionId\": \"4.2_ThinkBlueReg\", \"learnToolsVersion\": \"0.3.4\", \"valueTowardsCompletion\": 0.0, \"failureMessage\": \"\", \"exceptionClass\": \"\", \"trace\": \"\", \"outcomeType\": 4}}, \"*\")"
      ],
      "text/plain": [
       "<IPython.core.display.Javascript object>"
      ]
     },
     "metadata": {},
     "output_type": "display_data"
    },
    {
     "data": {
      "text/markdown": [
       "<span style=\"color:#33cc99\">Solution:</span> Since the regression line has a slightly positive slope, this tells us that there is a slightly positive correlation between `'winpercent'` and `'sugarpercent'`. Thus, people have a slight preference for candies containing relatively more sugar."
      ],
      "text/plain": [
       "Solution: Since the regression line has a slightly positive slope, this tells us that there is a slightly positive correlation between `'winpercent'` and `'sugarpercent'`. Thus, people have a slight preference for candies containing relatively more sugar."
      ]
     },
     "metadata": {},
     "output_type": "display_data"
    }
   ],
   "source": [
    "# Check your answer (Run this code cell to receive credit!)\n",
    "step_4.b.solution()"
   ]
  },
  {
   "cell_type": "markdown",
   "id": "7a472217",
   "metadata": {
    "papermill": {
     "duration": 0.010341,
     "end_time": "2023-06-29T13:31:37.977420",
     "exception": false,
     "start_time": "2023-06-29T13:31:37.967079",
     "status": "completed"
    },
    "tags": []
   },
   "source": [
    "## Step 5: Chocolate!\n",
    "\n",
    "In the code cell below, create a scatter plot to show the relationship between `'pricepercent'` (on the horizontal x-axis) and `'winpercent'` (on the vertical y-axis). Use the `'chocolate'` column to color-code the points.  _Don't add any regression lines just yet -- you'll do that in the next step!_"
   ]
  },
  {
   "cell_type": "code",
   "execution_count": 16,
   "id": "354cb125",
   "metadata": {
    "execution": {
     "iopub.execute_input": "2023-06-29T13:31:37.997731Z",
     "iopub.status.busy": "2023-06-29T13:31:37.997418Z",
     "iopub.status.idle": "2023-06-29T13:31:38.286156Z",
     "shell.execute_reply": "2023-06-29T13:31:38.285144Z"
    },
    "papermill": {
     "duration": 0.301049,
     "end_time": "2023-06-29T13:31:38.287992",
     "exception": false,
     "start_time": "2023-06-29T13:31:37.986943",
     "status": "completed"
    },
    "tags": []
   },
   "outputs": [
    {
     "data": {
      "application/javascript": [
       "parent.postMessage({\"jupyterEvent\": \"custom.exercise_interaction\", \"data\": {\"outcomeType\": 1, \"valueTowardsCompletion\": 0.3333333333333333, \"interactionType\": 1, \"questionType\": 2, \"questionId\": \"5_ColorScatter\", \"learnToolsVersion\": \"0.3.4\", \"failureMessage\": \"\", \"exceptionClass\": \"\", \"trace\": \"\"}}, \"*\")"
      ],
      "text/plain": [
       "<IPython.core.display.Javascript object>"
      ]
     },
     "metadata": {},
     "output_type": "display_data"
    },
    {
     "data": {
      "text/markdown": [
       "<span style=\"color:#33cc33\">Correct</span>"
      ],
      "text/plain": [
       "Correct"
      ]
     },
     "metadata": {},
     "output_type": "display_data"
    },
    {
     "data": {
      "image/png": "[encoded data removed]",
      "text/plain": [
       "<Figure size 640x480 with 1 Axes>"
      ]
     },
     "metadata": {},
     "output_type": "display_data"
    }
   ],
   "source": [
    "# Scatter plot showing the relationship between 'pricepercent', 'winpercent', and 'chocolate'\n",
    "____ # Your code here\n",
    "sns.scatterplot(x=candy_data['pricepercent'],y=candy_data['winpercent'], hue=candy_data['chocolate'])\n",
    "# Check your answer\n",
    "step_5.check()"
   ]
  },
  {
   "cell_type": "code",
   "execution_count": 17,
   "id": "974686b3",
   "metadata": {
    "execution": {
     "iopub.execute_input": "2023-06-29T13:31:38.309722Z",
     "iopub.status.busy": "2023-06-29T13:31:38.309121Z",
     "iopub.status.idle": "2023-06-29T13:31:38.313443Z",
     "shell.execute_reply": "2023-06-29T13:31:38.312566Z"
    },
    "papermill": {
     "duration": 0.017012,
     "end_time": "2023-06-29T13:31:38.315006",
     "exception": false,
     "start_time": "2023-06-29T13:31:38.297994",
     "status": "completed"
    },
    "tags": []
   },
   "outputs": [],
   "source": [
    "# Lines below will give you a hint or solution code\n",
    "#step_5.hint()\n",
    "#step_5.solution_plot()"
   ]
  },
  {
   "cell_type": "markdown",
   "id": "7d861cb7",
   "metadata": {
    "papermill": {
     "duration": 0.009527,
     "end_time": "2023-06-29T13:31:38.334414",
     "exception": false,
     "start_time": "2023-06-29T13:31:38.324887",
     "status": "completed"
    },
    "tags": []
   },
   "source": [
    "Can you see any interesting patterns in the scatter plot?  We'll investigate this plot further  by adding regression lines in the next step!\n",
    "\n",
    "## Step 6: Investigate chocolate\n",
    "\n",
    "#### Part A\n",
    "\n",
    "Create the same scatter plot you created in **Step 5**, but now with two regression lines, corresponding to (1) chocolate candies and (2) candies without chocolate."
   ]
  },
  {
   "cell_type": "code",
   "execution_count": 18,
   "id": "cbaf33a3",
   "metadata": {
    "execution": {
     "iopub.execute_input": "2023-06-29T13:31:38.355344Z",
     "iopub.status.busy": "2023-06-29T13:31:38.354979Z",
     "iopub.status.idle": "2023-06-29T13:31:38.925546Z",
     "shell.execute_reply": "2023-06-29T13:31:38.924934Z"
    },
    "papermill": {
     "duration": 0.583214,
     "end_time": "2023-06-29T13:31:38.927243",
     "exception": false,
     "start_time": "2023-06-29T13:31:38.344029",
     "status": "completed"
    },
    "tags": []
   },
   "outputs": [
    {
     "data": {
      "application/javascript": [
       "parent.postMessage({\"jupyterEvent\": \"custom.exercise_interaction\", \"data\": {\"outcomeType\": 1, \"valueTowardsCompletion\": 0.3333333333333333, \"interactionType\": 1, \"questionType\": 2, \"questionId\": \"6.1_PlotColorReg\", \"learnToolsVersion\": \"0.3.4\", \"failureMessage\": \"\", \"exceptionClass\": \"\", \"trace\": \"\"}}, \"*\")"
      ],
      "text/plain": [
       "<IPython.core.display.Javascript object>"
      ]
     },
     "metadata": {},
     "output_type": "display_data"
    },
    {
     "data": {
      "text/markdown": [
       "<span style=\"color:#33cc33\">Correct</span>"
      ],
      "text/plain": [
       "Correct"
      ]
     },
     "metadata": {},
     "output_type": "display_data"
    },
    {
     "data": {
      "image/png": "[encoded data removed]",
      "text/plain": [
       "<Figure size 578.611x500 with 1 Axes>"
      ]
     },
     "metadata": {},
     "output_type": "display_data"
    }
   ],
   "source": [
    "# Color-coded scatter plot w/ regression lines\n",
    "____ # Your code here\n",
    "sns.lmplot(x='pricepercent',y='winpercent', hue='chocolate', data=candy_data)\n",
    "\n",
    "# Check your answer\n",
    "step_6.a.check()"
   ]
  },
  {
   "cell_type": "code",
   "execution_count": 19,
   "id": "cb0132d4",
   "metadata": {
    "execution": {
     "iopub.execute_input": "2023-06-29T13:31:38.950900Z",
     "iopub.status.busy": "2023-06-29T13:31:38.950406Z",
     "iopub.status.idle": "2023-06-29T13:31:38.954431Z",
     "shell.execute_reply": "2023-06-29T13:31:38.953461Z"
    },
    "papermill": {
     "duration": 0.018045,
     "end_time": "2023-06-29T13:31:38.956388",
     "exception": false,
     "start_time": "2023-06-29T13:31:38.938343",
     "status": "completed"
    },
    "tags": []
   },
   "outputs": [],
   "source": [
    "# Lines below will give you a hint or solution code\n",
    "#step_6.a.hint()\n",
    "#step_6.a.solution_plot()"
   ]
  },
  {
   "cell_type": "markdown",
   "id": "ad36fe8e",
   "metadata": {
    "papermill": {
     "duration": 0.010636,
     "end_time": "2023-06-29T13:31:38.978093",
     "exception": false,
     "start_time": "2023-06-29T13:31:38.967457",
     "status": "completed"
    },
    "tags": []
   },
   "source": [
    "#### Part B\n",
    "\n",
    "Using the regression lines, what conclusions can you draw about the effects of chocolate and price on candy popularity?"
   ]
  },
  {
   "cell_type": "code",
   "execution_count": 20,
   "id": "2ed68da6",
   "metadata": {
    "execution": {
     "iopub.execute_input": "2023-06-29T13:31:39.001420Z",
     "iopub.status.busy": "2023-06-29T13:31:39.001028Z",
     "iopub.status.idle": "2023-06-29T13:31:39.006202Z",
     "shell.execute_reply": "2023-06-29T13:31:39.004804Z"
    },
    "papermill": {
     "duration": 0.019436,
     "end_time": "2023-06-29T13:31:39.008382",
     "exception": false,
     "start_time": "2023-06-29T13:31:38.988946",
     "status": "completed"
    },
    "tags": []
   },
   "outputs": [],
   "source": [
    "#step_6.b.hint()"
   ]
  },
  {
   "cell_type": "code",
   "execution_count": 21,
   "id": "921cdcd0",
   "metadata": {
    "execution": {
     "iopub.execute_input": "2023-06-29T13:31:39.032112Z",
     "iopub.status.busy": "2023-06-29T13:31:39.031772Z",
     "iopub.status.idle": "2023-06-29T13:31:39.038856Z",
     "shell.execute_reply": "2023-06-29T13:31:39.037880Z"
    },
    "papermill": {
     "duration": 0.021436,
     "end_time": "2023-06-29T13:31:39.041209",
     "exception": false,
     "start_time": "2023-06-29T13:31:39.019773",
     "status": "completed"
    },
    "tags": []
   },
   "outputs": [
    {
     "data": {
      "application/javascript": [
       "parent.postMessage({\"jupyterEvent\": \"custom.exercise_interaction\", \"data\": {\"interactionType\": 3, \"questionType\": 4, \"questionId\": \"6.2_ThinkColorReg\", \"learnToolsVersion\": \"0.3.4\", \"valueTowardsCompletion\": 0.0, \"failureMessage\": \"\", \"exceptionClass\": \"\", \"trace\": \"\", \"outcomeType\": 4}}, \"*\")"
      ],
      "text/plain": [
       "<IPython.core.display.Javascript object>"
      ]
     },
     "metadata": {},
     "output_type": "display_data"
    },
    {
     "data": {
      "text/markdown": [
       "<span style=\"color:#33cc99\">Solution:</span> We'll begin with the regression line for chocolate candies. Since this line has a slightly positive slope, we can say that more expensive chocolate candies tend to be more popular (than relatively cheaper chocolate candies).  Likewise, since the regression line for candies without chocolate has a negative slope, we can say that if candies don't contain chocolate, they tend to be more popular when they are cheaper.  One important note, however, is that the dataset is quite small -- so we shouldn't invest too much trust in these patterns!  To inspire more confidence in the results, we should add more candies to the dataset."
      ],
      "text/plain": [
       "Solution: We'll begin with the regression line for chocolate candies. Since this line has a slightly positive slope, we can say that more expensive chocolate candies tend to be more popular (than relatively cheaper chocolate candies).  Likewise, since the regression line for candies without chocolate has a negative slope, we can say that if candies don't contain chocolate, they tend to be more popular when they are cheaper.  One important note, however, is that the dataset is quite small -- so we shouldn't invest too much trust in these patterns!  To inspire more confidence in the results, we should add more candies to the dataset."
      ]
     },
     "metadata": {},
     "output_type": "display_data"
    }
   ],
   "source": [
    "# Check your answer (Run this code cell to receive credit!)\n",
    "step_6.b.solution()"
   ]
  },
  {
   "cell_type": "markdown",
   "id": "6b1ddf16",
   "metadata": {
    "papermill": {
     "duration": 0.010975,
     "end_time": "2023-06-29T13:31:39.064108",
     "exception": false,
     "start_time": "2023-06-29T13:31:39.053133",
     "status": "completed"
    },
    "tags": []
   },
   "source": [
    "## Step 7: Everybody loves chocolate.\n",
    "\n",
    "#### Part A\n",
    "\n",
    "Create a categorical scatter plot to highlight the relationship between `'chocolate'` and `'winpercent'`.  Put `'chocolate'` on the (horizontal) x-axis, and `'winpercent'` on the (vertical) y-axis."
   ]
  },
  {
   "cell_type": "code",
   "execution_count": 22,
   "id": "44805227",
   "metadata": {
    "execution": {
     "iopub.execute_input": "2023-06-29T13:31:39.089031Z",
     "iopub.status.busy": "2023-06-29T13:31:39.088045Z",
     "iopub.status.idle": "2023-06-29T13:31:39.333377Z",
     "shell.execute_reply": "2023-06-29T13:31:39.332531Z"
    },
    "papermill": {
     "duration": 0.259815,
     "end_time": "2023-06-29T13:31:39.335136",
     "exception": false,
     "start_time": "2023-06-29T13:31:39.075321",
     "status": "completed"
    },
    "tags": []
   },
   "outputs": [
    {
     "data": {
      "application/javascript": [
       "parent.postMessage({\"jupyterEvent\": \"custom.exercise_interaction\", \"data\": {\"outcomeType\": 1, \"valueTowardsCompletion\": 0.3333333333333333, \"interactionType\": 1, \"questionType\": 2, \"questionId\": \"7.1_PlotSwarm\", \"learnToolsVersion\": \"0.3.4\", \"failureMessage\": \"\", \"exceptionClass\": \"\", \"trace\": \"\"}}, \"*\")"
      ],
      "text/plain": [
       "<IPython.core.display.Javascript object>"
      ]
     },
     "metadata": {},
     "output_type": "display_data"
    },
    {
     "data": {
      "text/markdown": [
       "<span style=\"color:#33cc33\">Correct</span>"
      ],
      "text/plain": [
       "Correct"
      ]
     },
     "metadata": {},
     "output_type": "display_data"
    },
    {
     "data": {
      "image/png": "[encoded data removed]",
      "text/plain": [
       "<Figure size 640x480 with 1 Axes>"
      ]
     },
     "metadata": {},
     "output_type": "display_data"
    }
   ],
   "source": [
    "# Scatter plot showing the relationship between 'chocolate' and 'winpercent'\n",
    "____ # Your code here\n",
    "sns.swarmplot(x=candy_data['chocolate'],y=candy_data['winpercent'])\n",
    "# Check your answer\n",
    "step_7.a.check()"
   ]
  },
  {
   "cell_type": "code",
   "execution_count": 23,
   "id": "db543073",
   "metadata": {
    "execution": {
     "iopub.execute_input": "2023-06-29T13:31:39.359540Z",
     "iopub.status.busy": "2023-06-29T13:31:39.359214Z",
     "iopub.status.idle": "2023-06-29T13:31:39.362939Z",
     "shell.execute_reply": "2023-06-29T13:31:39.362110Z"
    },
    "papermill": {
     "duration": 0.01797,
     "end_time": "2023-06-29T13:31:39.364702",
     "exception": false,
     "start_time": "2023-06-29T13:31:39.346732",
     "status": "completed"
    },
    "tags": []
   },
   "outputs": [],
   "source": [
    "# Lines below will give you a hint or solution code\n",
    "#step_7.a.hint()\n",
    "#step_7.a.solution_plot()"
   ]
  },
  {
   "cell_type": "markdown",
   "id": "1afeaf5c",
   "metadata": {
    "papermill": {
     "duration": 0.010999,
     "end_time": "2023-06-29T13:31:39.387007",
     "exception": false,
     "start_time": "2023-06-29T13:31:39.376008",
     "status": "completed"
    },
    "tags": []
   },
   "source": [
    "#### Part B\n",
    "\n",
    "You decide to dedicate a section of your report to the fact that chocolate candies tend to be more popular than candies without chocolate.  Which plot is more appropriate to tell this story: the plot from **Step 6**, or the plot from **Step 7**?"
   ]
  },
  {
   "cell_type": "code",
   "execution_count": 24,
   "id": "f8546b5f",
   "metadata": {
    "execution": {
     "iopub.execute_input": "2023-06-29T13:31:39.411650Z",
     "iopub.status.busy": "2023-06-29T13:31:39.411330Z",
     "iopub.status.idle": "2023-06-29T13:31:39.415101Z",
     "shell.execute_reply": "2023-06-29T13:31:39.414249Z"
    },
    "papermill": {
     "duration": 0.01825,
     "end_time": "2023-06-29T13:31:39.416672",
     "exception": false,
     "start_time": "2023-06-29T13:31:39.398422",
     "status": "completed"
    },
    "tags": []
   },
   "outputs": [],
   "source": [
    "#step_7.b.hint()"
   ]
  },
  {
   "cell_type": "code",
   "execution_count": 25,
   "id": "09d0b2de",
   "metadata": {
    "execution": {
     "iopub.execute_input": "2023-06-29T13:31:39.440951Z",
     "iopub.status.busy": "2023-06-29T13:31:39.440645Z",
     "iopub.status.idle": "2023-06-29T13:31:39.448172Z",
     "shell.execute_reply": "2023-06-29T13:31:39.447551Z"
    },
    "papermill": {
     "duration": 0.021822,
     "end_time": "2023-06-29T13:31:39.449972",
     "exception": false,
     "start_time": "2023-06-29T13:31:39.428150",
     "status": "completed"
    },
    "tags": []
   },
   "outputs": [
    {
     "data": {
      "application/javascript": [
       "parent.postMessage({\"jupyterEvent\": \"custom.exercise_interaction\", \"data\": {\"interactionType\": 3, \"questionType\": 4, \"questionId\": \"7.2_ThinkSwarm\", \"learnToolsVersion\": \"0.3.4\", \"valueTowardsCompletion\": 0.0, \"failureMessage\": \"\", \"exceptionClass\": \"\", \"trace\": \"\", \"outcomeType\": 4}}, \"*\")"
      ],
      "text/plain": [
       "<IPython.core.display.Javascript object>"
      ]
     },
     "metadata": {},
     "output_type": "display_data"
    },
    {
     "data": {
      "text/markdown": [
       "<span style=\"color:#33cc99\">Solution:</span> In this case, the categorical scatter plot from **Step 7** is the more appropriate plot. While both plots tell the desired story, the plot from **Step 6** conveys far more information that could distract from the main point."
      ],
      "text/plain": [
       "Solution: In this case, the categorical scatter plot from **Step 7** is the more appropriate plot. While both plots tell the desired story, the plot from **Step 6** conveys far more information that could distract from the main point."
      ]
     },
     "metadata": {},
     "output_type": "display_data"
    }
   ],
   "source": [
    "# Check your answer (Run this code cell to receive credit!)\n",
    "step_7.b.solution()"
   ]
  },
  {
   "cell_type": "markdown",
   "id": "05d75c10",
   "metadata": {
    "papermill": {
     "duration": 0.011262,
     "end_time": "2023-06-29T13:31:39.472699",
     "exception": false,
     "start_time": "2023-06-29T13:31:39.461437",
     "status": "completed"
    },
    "tags": []
   },
   "source": [
    "## Keep going\n",
    "\n",
    "Explore **[histograms and density plots](https://www.kaggle.com/alexisbcook/distributions)**."
   ]
  },
  {
   "cell_type": "markdown",
   "id": "d46dd063",
   "metadata": {
    "papermill": {
     "duration": 0.011295,
     "end_time": "2023-06-29T13:31:39.495383",
     "exception": false,
     "start_time": "2023-06-29T13:31:39.484088",
     "status": "completed"
    },
    "tags": []
   },
   "source": [
    "---\n",
    "\n",
    "\n",
    "\n",
    "\n",
    "*Have questions or comments? Visit the [course discussion forum](https://www.kaggle.com/learn/data-visualization/discussion) to chat with other learners.*"
   ]
  }
 ],
 "metadata": {
  "kernelspec": {
   "display_name": "Python 3",
   "language": "python",
   "name": "python3"
  },
  "language_info": {
   "codemirror_mode": {
    "name": "ipython",
    "version": 3
   },
   "file_extension": ".py",
   "mimetype": "text/x-python",
   "name": "python",
   "nbconvert_exporter": "python",
   "pygments_lexer": "ipython3",
   "version": "3.10.10"
  },
  "papermill": {
   "default_parameters": {},
   "duration": 13.730958,
   "end_time": "2023-06-29T13:31:40.327206",
   "environment_variables": {},
   "exception": null,
   "input_path": "__notebook__.ipynb",
   "output_path": "__notebook__.ipynb",
   "parameters": {},
   "start_time": "2023-06-29T13:31:26.596248",
   "version": "2.4.0"
  }
 },
 "nbformat": 4,
 "nbformat_minor": 5
}
