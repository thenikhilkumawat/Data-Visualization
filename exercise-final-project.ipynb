{
 "cells": [
  {
   "cell_type": "markdown",
   "id": "81ac5e6b",
   "metadata": {
    "papermill": {
     "duration": 0.0056,
     "end_time": "2023-06-29T13:36:11.867778",
     "exception": false,
     "start_time": "2023-06-29T13:36:11.862178",
     "status": "completed"
    },
    "tags": []
   },
   "source": [
    "**This notebook is an exercise in the [Data Visualization](https://www.kaggle.com/learn/data-visualization) course.  You can reference the tutorial at [this link](https://www.kaggle.com/alexisbcook/final-project).**\n",
    "\n",
    "---\n"
   ]
  },
  {
   "cell_type": "markdown",
   "id": "4f09f26c",
   "metadata": {
    "papermill": {
     "duration": 0.004762,
     "end_time": "2023-06-29T13:36:11.877814",
     "exception": false,
     "start_time": "2023-06-29T13:36:11.873052",
     "status": "completed"
    },
    "tags": []
   },
   "source": [
    "Now it's time for you to demonstrate your new skills with a project of your own!\n",
    "\n",
    "In this exercise, you will work with a dataset of your choosing.  Once you've selected a dataset, you'll design and create your own plot to tell interesting stories behind the data!\n",
    "\n",
    "## Setup\n",
    "\n",
    "Run the next cell to import and configure the Python libraries that you need to complete the exercise."
   ]
  },
  {
   "cell_type": "code",
   "execution_count": 1,
   "id": "8c9a34a1",
   "metadata": {
    "execution": {
     "iopub.execute_input": "2023-06-29T13:36:11.892182Z",
     "iopub.status.busy": "2023-06-29T13:36:11.891487Z",
     "iopub.status.idle": "2023-06-29T13:36:13.363490Z",
     "shell.execute_reply": "2023-06-29T13:36:13.361761Z"
    },
    "papermill": {
     "duration": 1.482231,
     "end_time": "2023-06-29T13:36:13.365879",
     "exception": false,
     "start_time": "2023-06-29T13:36:11.883648",
     "status": "completed"
    },
    "tags": []
   },
   "outputs": [
    {
     "name": "stdout",
     "output_type": "stream",
     "text": [
      "Setup Complete\n"
     ]
    }
   ],
   "source": [
    "import pandas as pd\n",
    "pd.plotting.register_matplotlib_converters()\n",
    "import matplotlib.pyplot as plt\n",
    "%matplotlib inline\n",
    "import seaborn as sns\n",
    "print(\"Setup Complete\")"
   ]
  },
  {
   "cell_type": "markdown",
   "id": "d167a09a",
   "metadata": {
    "papermill": {
     "duration": 0.004924,
     "end_time": "2023-06-29T13:36:13.376247",
     "exception": false,
     "start_time": "2023-06-29T13:36:13.371323",
     "status": "completed"
    },
    "tags": []
   },
   "source": [
    "The questions below will give you feedback on your work. Run the following cell to set up the feedback system."
   ]
  },
  {
   "cell_type": "code",
   "execution_count": 2,
   "id": "11b49a58",
   "metadata": {
    "execution": {
     "iopub.execute_input": "2023-06-29T13:36:13.388260Z",
     "iopub.status.busy": "2023-06-29T13:36:13.387855Z",
     "iopub.status.idle": "2023-06-29T13:36:13.424352Z",
     "shell.execute_reply": "2023-06-29T13:36:13.423184Z"
    },
    "papermill": {
     "duration": 0.045296,
     "end_time": "2023-06-29T13:36:13.426635",
     "exception": false,
     "start_time": "2023-06-29T13:36:13.381339",
     "status": "completed"
    },
    "tags": []
   },
   "outputs": [
    {
     "name": "stdout",
     "output_type": "stream",
     "text": [
      "Setup Complete\n"
     ]
    }
   ],
   "source": [
    "# Set up code checking\n",
    "from learntools.core import binder\n",
    "binder.bind(globals())\n",
    "from learntools.data_viz_to_coder.ex7 import *\n",
    "print(\"Setup Complete\")"
   ]
  },
  {
   "cell_type": "markdown",
   "id": "bda1eabd",
   "metadata": {
    "papermill": {
     "duration": 0.004906,
     "end_time": "2023-06-29T13:36:13.436912",
     "exception": false,
     "start_time": "2023-06-29T13:36:13.432006",
     "status": "completed"
    },
    "tags": []
   },
   "source": [
    "## Step 1: Attach a dataset to the notebook\n",
    "\n",
    "Begin by selecting a CSV dataset from [Kaggle Datasets](https://www.kaggle.com/datasets).  If you're unsure how to do this, please revisit the instructions in the previous tutorial.\n",
    "\n",
    "Once you have selected a dataset, click on the **[+ Add data]** option in the top right corner.  This will generate a pop-up window that you can use to search for your chosen dataset.  \n",
    "\n",
    "![ex6_search_dataset](https://storage.googleapis.com/kaggle-media/learn/images/cIIWPUS.png)\n",
    "\n",
    "Once you have found the dataset, click on the **[Add]** button to attach it to the notebook.  You can check that it was successful by looking at the **Data** dropdown menu to the right of the notebook -- look for an **input** folder containing a subfolder that matches the name of the dataset.\n",
    "\n",
    "<center>\n",
    "<img src=\"https://storage.googleapis.com/kaggle-media/learn/images/nMYc1Nu.png\" width=30%><br/>\n",
    "</center>\n",
    "\n",
    "You can click on the carat to the left of the name of the dataset to double-check that it contains a CSV file.  For instance, the image below shows that the example dataset contains two CSV files: (1) **dc-wikia-data.csv**, and (2) **marvel-wikia-data.csv**.\n",
    "\n",
    "<center>\n",
    "<img src=\"https://storage.googleapis.com/kaggle-media/learn/images/B4sJkVA.png\" width=30%><br/>\n",
    "</center>\n",
    "\n",
    "Once you've uploaded a dataset with a CSV file, run the code cell below **without changes** to receive credit for your work!"
   ]
  },
  {
   "cell_type": "code",
   "execution_count": 3,
   "id": "80adbda8",
   "metadata": {
    "execution": {
     "iopub.execute_input": "2023-06-29T13:36:13.449462Z",
     "iopub.status.busy": "2023-06-29T13:36:13.448686Z",
     "iopub.status.idle": "2023-06-29T13:36:13.464252Z",
     "shell.execute_reply": "2023-06-29T13:36:13.463199Z"
    },
    "papermill": {
     "duration": 0.024512,
     "end_time": "2023-06-29T13:36:13.466601",
     "exception": false,
     "start_time": "2023-06-29T13:36:13.442089",
     "status": "completed"
    },
    "tags": []
   },
   "outputs": [
    {
     "data": {
      "application/javascript": [
       "parent.postMessage({\"jupyterEvent\": \"custom.exercise_interaction\", \"data\": {\"outcomeType\": 1, \"valueTowardsCompletion\": 0.25, \"interactionType\": 1, \"questionType\": 2, \"questionId\": \"1_AttachData\", \"learnToolsVersion\": \"0.3.4\", \"failureMessage\": \"\", \"exceptionClass\": \"\", \"trace\": \"\"}}, \"*\")"
      ],
      "text/plain": [
       "<IPython.core.display.Javascript object>"
      ]
     },
     "metadata": {},
     "output_type": "display_data"
    },
    {
     "data": {
      "text/markdown": [
       "<span style=\"color:#33cc33\">Correct:</span> \n",
       "\n"
      ],
      "text/plain": [
       "Correct: \n"
      ]
     },
     "metadata": {},
     "output_type": "display_data"
    }
   ],
   "source": [
    "# Check for a dataset with a CSV file\n",
    "step_1.check()"
   ]
  },
  {
   "cell_type": "markdown",
   "id": "d4538ea8",
   "metadata": {
    "papermill": {
     "duration": 0.00538,
     "end_time": "2023-06-29T13:36:13.479181",
     "exception": false,
     "start_time": "2023-06-29T13:36:13.473801",
     "status": "completed"
    },
    "tags": []
   },
   "source": [
    "## Step 2: Specify the filepath\n",
    "\n",
    "Now that the dataset is attached to the notebook, you can find its filepath.  To do this, begin by clicking on the CSV file you'd like to use.  This will open the CSV file in a tab below the notebook.  You can find the filepath towards the top of this new tab.  \n",
    "\n",
    "![ex6_filepath](https://storage.googleapis.com/kaggle-media/learn/images/fgXQV47.png)\n",
    "\n",
    "After you find the filepath corresponding to your dataset, fill it in as the value for `my_filepath` in the code cell below, and run the code cell to check that you've provided a valid filepath.  For instance, in the case of this example dataset, we would set\n",
    "```\n",
    "my_filepath = \"../input/fivethirtyeight-comic-characters-dataset/dc-wikia-data.csv\"\n",
    "```  \n",
    "Note that **you must enclose the filepath in quotation marks**; otherwise, the code will return an error.\n",
    "\n",
    "Once you've entered the filepath, you can close the tab below the notebook by clicking on the **[X]** at the top of the tab."
   ]
  },
  {
   "cell_type": "code",
   "execution_count": 4,
   "id": "eda02099",
   "metadata": {
    "execution": {
     "iopub.execute_input": "2023-06-29T13:36:13.492957Z",
     "iopub.status.busy": "2023-06-29T13:36:13.492128Z",
     "iopub.status.idle": "2023-06-29T13:36:13.504539Z",
     "shell.execute_reply": "2023-06-29T13:36:13.503579Z"
    },
    "papermill": {
     "duration": 0.021983,
     "end_time": "2023-06-29T13:36:13.506855",
     "exception": false,
     "start_time": "2023-06-29T13:36:13.484872",
     "status": "completed"
    },
    "tags": []
   },
   "outputs": [
    {
     "data": {
      "application/javascript": [
       "parent.postMessage({\"jupyterEvent\": \"custom.exercise_interaction\", \"data\": {\"outcomeType\": 1, \"valueTowardsCompletion\": 0.25, \"interactionType\": 1, \"questionType\": 2, \"questionId\": \"2_Filepath\", \"learnToolsVersion\": \"0.3.4\", \"failureMessage\": \"\", \"exceptionClass\": \"\", \"trace\": \"\"}}, \"*\")"
      ],
      "text/plain": [
       "<IPython.core.display.Javascript object>"
      ]
     },
     "metadata": {},
     "output_type": "display_data"
    },
    {
     "data": {
      "text/markdown": [
       "<span style=\"color:#33cc33\">Correct:</span> \n",
       "\n"
      ],
      "text/plain": [
       "Correct: \n"
      ]
     },
     "metadata": {},
     "output_type": "display_data"
    }
   ],
   "source": [
    "# Fill in the line below: Specify the path of the CSV file to read\n",
    "my_filepath = \"/kaggle/input/shark-tank-indian-companies/ShartankIndiaAllPitches.csv\"\n",
    "\n",
    "# Check for a valid filepath to a CSV file in a dataset\n",
    "step_2.check()"
   ]
  },
  {
   "cell_type": "markdown",
   "id": "b9fd37f4",
   "metadata": {
    "papermill": {
     "duration": 0.005823,
     "end_time": "2023-06-29T13:36:13.518770",
     "exception": false,
     "start_time": "2023-06-29T13:36:13.512947",
     "status": "completed"
    },
    "tags": []
   },
   "source": [
    "## Step 3: Load the data\n",
    "\n",
    "Use the next code cell to load your data file into `my_data`.  Use the filepath that you specified in the previous step."
   ]
  },
  {
   "cell_type": "code",
   "execution_count": 5,
   "id": "843956ac",
   "metadata": {
    "execution": {
     "iopub.execute_input": "2023-06-29T13:36:13.533334Z",
     "iopub.status.busy": "2023-06-29T13:36:13.532662Z",
     "iopub.status.idle": "2023-06-29T13:36:13.557433Z",
     "shell.execute_reply": "2023-06-29T13:36:13.556211Z"
    },
    "papermill": {
     "duration": 0.034608,
     "end_time": "2023-06-29T13:36:13.559630",
     "exception": false,
     "start_time": "2023-06-29T13:36:13.525022",
     "status": "completed"
    },
    "tags": []
   },
   "outputs": [
    {
     "data": {
      "application/javascript": [
       "parent.postMessage({\"jupyterEvent\": \"custom.exercise_interaction\", \"data\": {\"outcomeType\": 1, \"valueTowardsCompletion\": 0.25, \"interactionType\": 1, \"questionType\": 2, \"questionId\": \"3_LoadData\", \"learnToolsVersion\": \"0.3.4\", \"failureMessage\": \"\", \"exceptionClass\": \"\", \"trace\": \"\"}}, \"*\")"
      ],
      "text/plain": [
       "<IPython.core.display.Javascript object>"
      ]
     },
     "metadata": {},
     "output_type": "display_data"
    },
    {
     "data": {
      "text/markdown": [
       "<span style=\"color:#33cc33\">Correct:</span> \n",
       "\n"
      ],
      "text/plain": [
       "Correct: \n"
      ]
     },
     "metadata": {},
     "output_type": "display_data"
    }
   ],
   "source": [
    "# Fill in the line below: Read the file into a variable my_data\n",
    "my_data = pd.read_csv(my_filepath, encoding='utf-8')\n",
    "\n",
    "# Check that a dataset has been uploaded into my_data\n",
    "step_3.check()"
   ]
  },
  {
   "cell_type": "markdown",
   "id": "cdb1dcc5",
   "metadata": {
    "papermill": {
     "duration": 0.006055,
     "end_time": "2023-06-29T13:36:13.572066",
     "exception": false,
     "start_time": "2023-06-29T13:36:13.566011",
     "status": "completed"
    },
    "tags": []
   },
   "source": [
    "**_After the code cell above is marked correct_**, run the code cell below without changes to view the first five rows of the data."
   ]
  },
  {
   "cell_type": "code",
   "execution_count": 6,
   "id": "95e73c4c",
   "metadata": {
    "execution": {
     "iopub.execute_input": "2023-06-29T13:36:13.586548Z",
     "iopub.status.busy": "2023-06-29T13:36:13.585894Z",
     "iopub.status.idle": "2023-06-29T13:36:13.620027Z",
     "shell.execute_reply": "2023-06-29T13:36:13.619204Z"
    },
    "papermill": {
     "duration": 0.044274,
     "end_time": "2023-06-29T13:36:13.622439",
     "exception": false,
     "start_time": "2023-06-29T13:36:13.578165",
     "status": "completed"
    },
    "tags": []
   },
   "outputs": [
    {
     "data": {
      "text/html": [
       "<div>\n",
       "<style scoped>\n",
       "    .dataframe tbody tr th:only-of-type {\n",
       "        vertical-align: middle;\n",
       "    }\n",
       "\n",
       "    .dataframe tbody tr th {\n",
       "        vertical-align: top;\n",
       "    }\n",
       "\n",
       "    .dataframe thead th {\n",
       "        text-align: right;\n",
       "    }\n",
       "</style>\n",
       "<table border=\"1\" class=\"dataframe\">\n",
       "  <thead>\n",
       "    <tr style=\"text-align: right;\">\n",
       "      <th></th>\n",
       "      <th>Episode Number</th>\n",
       "      <th>Brand</th>\n",
       "      <th>Investment Amount (In Lakhs INR)</th>\n",
       "      <th>Debt (In lakhs INR)</th>\n",
       "      <th>Equity</th>\n",
       "      <th>Anupam</th>\n",
       "      <th>Ashneer</th>\n",
       "      <th>Namita</th>\n",
       "      <th>Aman</th>\n",
       "      <th>Peyush</th>\n",
       "      <th>Vineeta</th>\n",
       "      <th>Ghazal</th>\n",
       "      <th>Season</th>\n",
       "    </tr>\n",
       "  </thead>\n",
       "  <tbody>\n",
       "    <tr>\n",
       "      <th>0</th>\n",
       "      <td>1</td>\n",
       "      <td>BluePine Industries</td>\n",
       "      <td>75</td>\n",
       "      <td>0</td>\n",
       "      <td>18%</td>\n",
       "      <td>N</td>\n",
       "      <td>Y</td>\n",
       "      <td>N</td>\n",
       "      <td>Y</td>\n",
       "      <td>N</td>\n",
       "      <td>Y</td>\n",
       "      <td>N</td>\n",
       "      <td>1</td>\n",
       "    </tr>\n",
       "    <tr>\n",
       "      <th>1</th>\n",
       "      <td>1</td>\n",
       "      <td>Booz scooters</td>\n",
       "      <td>40</td>\n",
       "      <td>0</td>\n",
       "      <td>50%</td>\n",
       "      <td>N</td>\n",
       "      <td>Y</td>\n",
       "      <td>N</td>\n",
       "      <td>N</td>\n",
       "      <td>N</td>\n",
       "      <td>Y</td>\n",
       "      <td>N</td>\n",
       "      <td>1</td>\n",
       "    </tr>\n",
       "    <tr>\n",
       "      <th>2</th>\n",
       "      <td>1</td>\n",
       "      <td>Heart up my Sleeves</td>\n",
       "      <td>25</td>\n",
       "      <td>0</td>\n",
       "      <td>30%</td>\n",
       "      <td>Y</td>\n",
       "      <td>N</td>\n",
       "      <td>N</td>\n",
       "      <td>N</td>\n",
       "      <td>N</td>\n",
       "      <td>Y</td>\n",
       "      <td>N</td>\n",
       "      <td>1</td>\n",
       "    </tr>\n",
       "    <tr>\n",
       "      <th>3</th>\n",
       "      <td>2</td>\n",
       "      <td>Tagz Foods</td>\n",
       "      <td>70</td>\n",
       "      <td>0</td>\n",
       "      <td>3%</td>\n",
       "      <td>N</td>\n",
       "      <td>Y</td>\n",
       "      <td>N</td>\n",
       "      <td>N</td>\n",
       "      <td>N</td>\n",
       "      <td>N</td>\n",
       "      <td>N</td>\n",
       "      <td>1</td>\n",
       "    </tr>\n",
       "    <tr>\n",
       "      <th>4</th>\n",
       "      <td>2</td>\n",
       "      <td>Head and Heart</td>\n",
       "      <td>0</td>\n",
       "      <td>0</td>\n",
       "      <td>0%</td>\n",
       "      <td>N</td>\n",
       "      <td>N</td>\n",
       "      <td>N</td>\n",
       "      <td>N</td>\n",
       "      <td>N</td>\n",
       "      <td>N</td>\n",
       "      <td>N</td>\n",
       "      <td>1</td>\n",
       "    </tr>\n",
       "  </tbody>\n",
       "</table>\n",
       "</div>"
      ],
      "text/plain": [
       "   Episode Number                Brand  Investment Amount (In Lakhs INR)  \\\n",
       "0               1  BluePine Industries                                75   \n",
       "1               1        Booz scooters                                40   \n",
       "2               1  Heart up my Sleeves                                25   \n",
       "3               2           Tagz Foods                                70   \n",
       "4               2       Head and Heart                                 0   \n",
       "\n",
       "   Debt (In lakhs INR) Equity Anupam Ashneer Namita Aman Peyush Vineeta  \\\n",
       "0                    0    18%      N       Y      N    Y      N       Y   \n",
       "1                    0    50%      N       Y      N    N      N       Y   \n",
       "2                    0    30%      Y       N      N    N      N       Y   \n",
       "3                    0     3%      N       Y      N    N      N       N   \n",
       "4                    0     0%      N       N      N    N      N       N   \n",
       "\n",
       "  Ghazal  Season  \n",
       "0      N       1  \n",
       "1      N       1  \n",
       "2      N       1  \n",
       "3      N       1  \n",
       "4      N       1  "
      ]
     },
     "execution_count": 6,
     "metadata": {},
     "output_type": "execute_result"
    }
   ],
   "source": [
    "# Print the first five rows of the data\n",
    "my_data.head()"
   ]
  },
  {
   "cell_type": "markdown",
   "id": "2183280f",
   "metadata": {
    "papermill": {
     "duration": 0.006253,
     "end_time": "2023-06-29T13:36:13.635479",
     "exception": false,
     "start_time": "2023-06-29T13:36:13.629226",
     "status": "completed"
    },
    "tags": []
   },
   "source": [
    "## Step 4: Visualize the data\n",
    "\n",
    "Use the next code cell to create a figure that tells a story behind your dataset.  You can use any chart type (_line chart, bar chart, heatmap, etc_) of your choosing!"
   ]
  },
  {
   "cell_type": "code",
   "execution_count": 7,
   "id": "3e7ad9cd",
   "metadata": {
    "execution": {
     "iopub.execute_input": "2023-06-29T13:36:13.650672Z",
     "iopub.status.busy": "2023-06-29T13:36:13.649742Z",
     "iopub.status.idle": "2023-06-29T13:36:14.049179Z",
     "shell.execute_reply": "2023-06-29T13:36:14.048046Z"
    },
    "papermill": {
     "duration": 0.409677,
     "end_time": "2023-06-29T13:36:14.051667",
     "exception": false,
     "start_time": "2023-06-29T13:36:13.641990",
     "status": "completed"
    },
    "tags": []
   },
   "outputs": [
    {
     "data": {
      "application/javascript": [
       "parent.postMessage({\"jupyterEvent\": \"custom.exercise_interaction\", \"data\": {\"outcomeType\": 1, \"valueTowardsCompletion\": 0.25, \"interactionType\": 1, \"questionType\": 2, \"questionId\": \"4_CreatePlot\", \"learnToolsVersion\": \"0.3.4\", \"failureMessage\": \"\", \"exceptionClass\": \"\", \"trace\": \"\"}}, \"*\")"
      ],
      "text/plain": [
       "<IPython.core.display.Javascript object>"
      ]
     },
     "metadata": {},
     "output_type": "display_data"
    },
    {
     "data": {
      "text/markdown": [
       "<span style=\"color:#33cc33\">Correct:</span> \n",
       "\n"
      ],
      "text/plain": [
       "Correct: \n"
      ]
     },
     "metadata": {},
     "output_type": "display_data"
    },
    {
     "data": {
      "image/png": "[encoded data removed]",
      "text/plain": [
       "<Figure size 640x480 with 1 Axes>"
      ]
     },
     "metadata": {},
     "output_type": "display_data"
    }
   ],
   "source": [
    "# Create a plot\n",
    "____ # Your code here\n",
    "sns.barplot(data=my_data)\n",
    "# Check that a figure appears below\n",
    "step_4.check()"
   ]
  },
  {
   "cell_type": "markdown",
   "id": "6e42bc5d",
   "metadata": {
    "papermill": {
     "duration": 0.006911,
     "end_time": "2023-06-29T13:36:14.065650",
     "exception": false,
     "start_time": "2023-06-29T13:36:14.058739",
     "status": "completed"
    },
    "tags": []
   },
   "source": [
    "## Keep going\n",
    "\n",
    "Learn how to use your skills after completing the micro-course to create data visualizations in a **[final tutorial](https://www.kaggle.com/alexisbcook/creating-your-own-notebooks)**."
   ]
  },
  {
   "cell_type": "markdown",
   "id": "abdcd945",
   "metadata": {
    "papermill": {
     "duration": 0.006823,
     "end_time": "2023-06-29T13:36:14.079457",
     "exception": false,
     "start_time": "2023-06-29T13:36:14.072634",
     "status": "completed"
    },
    "tags": []
   },
   "source": [
    "---\n",
    "\n",
    "\n",
    "\n",
    "\n",
    "*Have questions or comments? Visit the [course discussion forum](https://www.kaggle.com/learn/data-visualization/discussion) to chat with other learners.*"
   ]
  }
 ],
 "metadata": {
  "kernelspec": {
   "display_name": "Python 3",
   "language": "python",
   "name": "python3"
  },
  "language_info": {
   "codemirror_mode": {
    "name": "ipython",
    "version": 3
   },
   "file_extension": ".py",
   "mimetype": "text/x-python",
   "name": "python",
   "nbconvert_exporter": "python",
   "pygments_lexer": "ipython3",
   "version": "3.10.10"
  },
  "papermill": {
   "default_parameters": {},
   "duration": 14.884754,
   "end_time": "2023-06-29T13:36:15.007726",
   "environment_variables": {},
   "exception": null,
   "input_path": "__notebook__.ipynb",
   "output_path": "__notebook__.ipynb",
   "parameters": {},
   "start_time": "2023-06-29T13:36:00.122972",
   "version": "2.4.0"
  }
 },
 "nbformat": 4,
 "nbformat_minor": 5
}
